{
 "cells": [
  {
   "cell_type": "code",
   "execution_count": 2,
   "metadata": {
    "slideshow": {
     "slide_type": "skip"
    }
   },
   "outputs": [
    {
     "data": {
      "text/plain": [
       "{'scroll': True}"
      ]
     },
     "execution_count": 2,
     "metadata": {},
     "output_type": "execute_result"
    }
   ],
   "source": [
    "from notebook.services.config import ConfigManager\n",
    "cm = ConfigManager()\n",
    "cm.update('livereveal', {\n",
    "        'scroll': True,\n",
    "})"
   ]
  },
  {
   "cell_type": "code",
   "execution_count": 2,
   "metadata": {
    "slideshow": {
     "slide_type": "skip"
    }
   },
   "outputs": [
    {
     "name": "stdout",
     "output_type": "stream",
     "text": [
      "Enter password: ········\n"
     ]
    }
   ],
   "source": [
    "\n",
    "# Import libraries\n",
    "import pandas as pd\n",
    "import numpy as np\n",
    "from datetime import datetime\n",
    "import time\n",
    "\n",
    "from IPython.display import HTML\n",
    "import warnings\n",
    "warnings.filterwarnings('ignore')\n",
    "\n",
    "from arcgis.gis import GIS\n",
    "import arcgis\n",
    "import arcgis.network as network\n",
    "from arcgis.features import Feature, FeatureSet\n",
    "from arcgis.geoenrichment import *\n",
    "from arcgis.features.manage_data import dissolve_boundaries\n",
    "from arcgis.geometry import distance\n",
    "from arcgis.geocoding import Geocoder, get_geocoders, geocode\n",
    "\n",
    "gis = GIS(username=\"pgaddiso_UCSDOnline8\")\n",
    "\n",
    "events_fl = gis.content.get(\"c84fe2e023b54ecf82de782b1e765c68\").layers[0]\n",
    "events_sdf = events_fl.query(out_sr='3857').sdf\n",
    "\n",
    "service_area_url = gis.properties.helperServices.serviceArea.url\n",
    "sa_layer = network.ServiceAreaLayer(service_area_url, gis=gis)\n",
    "travel_modes = sa_layer.retrieve_travel_modes()\n",
    "car_mode = [t for t in travel_modes['supportedTravelModes'] if t['name'] == 'Driving Time'][0]\n",
    "\n",
    "sref_3857 = {'latestWkid': 3857, 'wkid': 102100}\n",
    "\n",
    "freeways = gis.content.get(\"5cdc4f0e9c47499aa67be8d6e0bf6091\")\n",
    "freeways_fl = freeways.layers[0]\n",
    "freeways_sdf = freeways_fl.query().sdf\n",
    "\n",
    "features_sdf = pd.read_csv(\"events-features1.csv\")"
   ]
  },
  {
   "cell_type": "markdown",
   "metadata": {
    "slideshow": {
     "slide_type": "slide"
    }
   },
   "source": [
    "# On the Impact of  Events on Traffic Flow\n",
    "\n",
    "**Presented by**\n",
    "\n",
    "- Enrique Sanchez\n",
    "- Parker Addison"
   ]
  },
  {
   "cell_type": "markdown",
   "metadata": {
    "slideshow": {
     "slide_type": "slide"
    }
   },
   "source": [
    "## What's the project?\n",
    "\n",
    "*How does the context in which a major event is held affect the traffic conditions surrounding the event?*\n",
    "\n",
    "**Features:**\n",
    "- Time and date\n",
    "- Location\n",
    "- Estimated # of attendees\n",
    "- Event type\n",
    "\n",
    "**Study:**\n",
    "- Traffic impact &leftarrow; (yes, that's pretty vague)"
   ]
  },
  {
   "cell_type": "markdown",
   "metadata": {
    "slideshow": {
     "slide_type": "slide"
    }
   },
   "source": [
    "## Why's it important?\n",
    "\n",
    "- Planning the optimal time/location of a future event\n",
    "- Predicting the impact of an established event with greater attendance\n",
    "\n",
    "\n",
    "- City can plan ahead for traffic\n",
    "- City can establish ordinances for maximum traffic impact of events\n",
    "- Event planners can minimize traffic for their attendees\n",
    "- Event planners can make decisions on other factors, minimizing traffic through high-crime areas"
   ]
  },
  {
   "cell_type": "markdown",
   "metadata": {
    "slideshow": {
     "slide_type": "slide"
    }
   },
   "source": [
    "## Original Plan\n",
    "\n",
    "- Wanted to look at historical traffic on a street-segment basis\n",
    "- Represent intersections as nodes, segments as edges\n",
    "\n",
    "\n",
    "- Create 'baseline' traffic conditions (e.g. avg flow rate) conditional on day of week, hour of day\n",
    "- Create 'traffic deltas' during events &rightarrow; these are our y-values\n",
    "\n",
    "\n",
    "- Fix a graph structure (physically unchanging), then feed in node properties to predict edge properties"
   ]
  },
  {
   "cell_type": "markdown",
   "metadata": {
    "slideshow": {
     "slide_type": "subslide"
    }
   },
   "source": [
    "## Some issues...\n",
    "\n",
    "- Couldn't get access to historical traffic data\n",
    "- Couldn't find an ML model suited to work on a fixed graph structure"
   ]
  },
  {
   "cell_type": "markdown",
   "metadata": {
    "slideshow": {
     "slide_type": "subslide"
    }
   },
   "source": [
    "## Some solutions...\n",
    "\n",
    "- Look at historical *Service Areas*\n",
    "    - Less granular, but still takes into account each street behind the scenes\n",
    "- Compare 'baseline areas' with 'impacted areas'"
   ]
  },
  {
   "cell_type": "markdown",
   "metadata": {
    "slideshow": {
     "slide_type": "fragment"
    }
   },
   "source": [
    "## More problems...\n",
    "\n",
    "- Service area calculations only baselines beyond 12hrs"
   ]
  },
  {
   "cell_type": "markdown",
   "metadata": {
    "slideshow": {
     "slide_type": "slide"
    }
   },
   "source": [
    "# A Plan Emerges\n",
    "\n",
    "Set up the framework to allow for analysis if we can someday get historical service areas"
   ]
  },
  {
   "cell_type": "markdown",
   "metadata": {
    "slideshow": {
     "slide_type": "subslide"
    }
   },
   "source": [
    "**Features:** Provided\n",
    "- Location\n",
    "- Expected number of attendees\n",
    "- Event type"
   ]
  },
  {
   "cell_type": "markdown",
   "metadata": {
    "slideshow": {
     "slide_type": "subslide"
    }
   },
   "source": [
    "**Features:** Engineered/Enriched\n",
    "- Baseline service area; travel to or from event; conditional on date, day, and time\n",
    "- Number of vehicles in baseline service area\n",
    "- Attendance-to-Vehicle ratio\n",
    "- Distance from event to highway"
   ]
  },
  {
   "cell_type": "markdown",
   "metadata": {
    "slideshow": {
     "slide_type": "subslide"
    }
   },
   "source": [
    "**Study:**\n",
    "\n",
    "- Proportion change to service area, $\\frac{\\text{Impacted Area} - \\text{Baseline Area}}{\\text{Baseline Area}}$\n",
    "\n",
    "\n",
    "- ...we're not able to get impacted area :'("
   ]
  },
  {
   "cell_type": "markdown",
   "metadata": {
    "slideshow": {
     "slide_type": "slide"
    }
   },
   "source": [
    "## Why these features?\n",
    "\n",
    "These features were chosen based on previous research from various sources.\n",
    "\n",
    "- Events closer to highways will have greater traffic flow through a single route/exit\n",
    "    - This seems contrary to expectations; may depend on event size; would have loved to examine this\n",
    "- The attendance-vehicle ratio gives a sense of how many cars may be entering the area vs. how many the area can handle\n",
    "- The larger the baseline service area, the easier it is for people to navigate despite increased traffic"
   ]
  },
  {
   "cell_type": "markdown",
   "metadata": {
    "slideshow": {
     "slide_type": "slide"
    }
   },
   "source": [
    "## Moving forward\n",
    "\n",
    "We got an events dataset from DataSD (official), Highways from the community, and Service Areas will be calculated using ArcGIS."
   ]
  },
  {
   "cell_type": "code",
   "execution_count": 3,
   "metadata": {
    "slideshow": {
     "slide_type": "subslide"
    }
   },
   "outputs": [
    {
     "data": {
      "application/vnd.jupyter.widget-view+json": {
       "model_id": "42267d92fd5b47db92374c2d5ce5b9e9",
       "version_major": 2,
       "version_minor": 0
      },
      "text/plain": [
       "MapView(layout=Layout(height='400px', width='100%'), zoom=11.0)"
      ]
     },
     "metadata": {},
     "output_type": "display_data"
    },
    {
     "data": {
      "text/html": [
       "<div class=\"map-static-img-preview-26ffadcd-2869-433c-a503-da0ee3bb5f4b\"><img src=\"\"></img></div>"
      ],
      "text/plain": [
       "<IPython.core.display.HTML object>"
      ]
     },
     "metadata": {},
     "output_type": "display_data"
    }
   ],
   "source": [
    "m1 = gis.map(\"San DIego\", zoomlevel=11)\n",
    "m1.add_layer(events_fl)\n",
    "m1"
   ]
  },
  {
   "cell_type": "markdown",
   "metadata": {
    "slideshow": {
     "slide_type": "slide"
    }
   },
   "source": [
    "## A coded example of feature generation"
   ]
  },
  {
   "cell_type": "code",
   "execution_count": 4,
   "metadata": {
    "slideshow": {
     "slide_type": "subslide"
    }
   },
   "outputs": [],
   "source": [
    "def calc_service_area(event, baseline=True):\n",
    "    \"\"\"\n",
    "    Helper Function.\n",
    "    \n",
    "    Calculates the 5 minute service area for an event\n",
    "    \n",
    "    \"\"\"\n",
    "\n",
    "    date = event['date'].split('-')\n",
    "    \n",
    "    if baseline:\n",
    "        # Predicting far into the past/future will generate a service area on typical traffic speeds.\n",
    "        # Note that we want these baselines to be conditional on day and time.  We're not sure if Esri\n",
    "        # takes the date into account as well as the day of week, so we can use the fact that calendars\n",
    "        # will exactly repeat day-date combinations every 28 years (no matter if it's a leap year or not)\n",
    "        #\n",
    "        # Source:\n",
    "        # https://www.answers.com/Q/How_often_in_years_do_calendars_repeat_with_the_same_day-date_combinations\n",
    "        \n",
    "        date[0] = str(int(date[0]) + 28)\n",
    "        \n",
    "    # Make sure that the time is still the same as the event!\n",
    "    start_time = event['start'][:2]\n",
    "\n",
    "    time = datetime(int(date[0]), int(date[1]), int(date[2]), int(start_time)).timestamp() * 1000\n",
    "    location = str(event['longitude']) + ', ' + str(event['latitude'])\n",
    "    \n",
    "    service_area = sa_layer.solve_service_area(facilities=location, default_breaks=[5], travel_mode=car_mode,\n",
    "                                               travel_direction='esriNATravelDirectionToFacility',\n",
    "                                               time_of_day = time, time_of_day_is_utc=False,\n",
    "                                               out_sr={'latestWkid': 3857, 'wkid': 102100})\n",
    "    \n",
    "    # This can be easily changed to work with end_time and TravelDirectionFromFacility to measure\n",
    "    # traffic impact from people leaving the event!\n",
    "    \n",
    "    return service_area\n",
    "\n",
    "\n",
    "def area_service_area(service_area):\n",
    "    \"\"\"\n",
    "    Helper Function.\n",
    "    \n",
    "    Calculates the area of a service area in meters.\n",
    "    \n",
    "    \"\"\"\n",
    "    \n",
    "    return service_area['saPolygons']['features'][0]['attributes']['Shape_Area']\n",
    "    \n",
    "    \n",
    "def num_vehicles(service_area):\n",
    "    \"\"\"\n",
    "    Helper Function.\n",
    "    \n",
    "    Calculates the number of vehicles in a service area\n",
    "    \n",
    "    \"\"\"\n",
    "    \n",
    "    study_area = arcgis.geometry.Geometry(\n",
    "        service_area['saPolygons']['features'][0]['geometry'], spatialReference=sref_3857\n",
    "    )\n",
    "    vehicles = enrich(study_areas=[study_area], data_collections=['AutomobilesAutomotiveProducts']) \n",
    "    num_vehicles = (vehicles.MP01002h_B + 2*vehicles.MP01003h_B + 3*vehicles.MP01004h_B)[0]\n",
    "    \n",
    "    return num_vehicles\n",
    "\n",
    "\n",
    "def dist_to_highway(event):\n",
    "    \"\"\"\n",
    "    Helper Function.\n",
    "    \n",
    "    Calculates the distance of an event to the highway.\n",
    "    \n",
    "    \"\"\"\n",
    "    \n",
    "    distance_to_highway = distance(geometry1= event['SHAPE'], \n",
    "                               geometry2=freeways_sdf['SHAPE'].loc[0], \n",
    "                               spatial_ref={'latestWkid': 3857, 'wkid': 102100}, \n",
    "                               geodesic=True)['distance']\n",
    "    \n",
    "    return distance_to_highway\n",
    "\n",
    "\n",
    "def generate_features(event):\n",
    "    \"\"\"\n",
    "    Generates the following features for a particular event:\n",
    "    \n",
    "    1. The area of the 5 minute service area\n",
    "    2. The number of veicles in a service area\n",
    "    3. The distance of the event to the nearest highway\n",
    "    \n",
    "    Outputs a dataframe of three columns containing these values.\n",
    "    \n",
    "    \"\"\"\n",
    "\n",
    "    service_area = calc_service_area(event, baseline=True)\n",
    "    area = area_service_area(service_area)\n",
    "    vehicles = num_vehicles(service_area)\n",
    "    distance = dist_to_highway(event)\n",
    "    av_ratio = event[\"total_atte\"] / vehicles\n",
    "    \n",
    "    features = pd.DataFrame({'service_area':[area], 'num_vehicles':[vehicles], 'av_ratio':[av_ratio], 'dist_to_highway':[distance]})\n",
    "    \n",
    "    return features"
   ]
  },
  {
   "cell_type": "code",
   "execution_count": 5,
   "metadata": {
    "slideshow": {
     "slide_type": "subslide"
    }
   },
   "outputs": [
    {
     "data": {
      "text/plain": [
       "FID                                                           1\n",
       "SHAPE         {'x': -13042312.189404054, 'y': 3857633.435881...\n",
       "date                                                 2018-08-08\n",
       "end_                                                   14:00:00\n",
       "id                                                        49813\n",
       "latitude                                                32.7157\n",
       "longitude                                              -117.161\n",
       "start                                                  11:00:00\n",
       "title         curbside bites food truck markets - downtown l...\n",
       "total_atte                                                  330\n",
       "type                                                    farmers\n",
       "Name: 0, dtype: object"
      ]
     },
     "execution_count": 5,
     "metadata": {},
     "output_type": "execute_result"
    }
   ],
   "source": [
    "event0 = events_sdf.loc[0]\n",
    "event0"
   ]
  },
  {
   "cell_type": "code",
   "execution_count": 6,
   "metadata": {
    "slideshow": {
     "slide_type": "subslide"
    }
   },
   "outputs": [
    {
     "data": {
      "application/vnd.jupyter.widget-view+json": {
       "model_id": "2407336973944903ae1d26a6ee67b507",
       "version_major": 2,
       "version_minor": 0
      },
      "text/plain": [
       "MapView(layout=Layout(height='400px', width='100%'), zoom=10.0)"
      ]
     },
     "metadata": {},
     "output_type": "display_data"
    },
    {
     "data": {
      "text/html": [
       "<div class=\"map-static-img-preview-d59b8a2a-e362-4b5b-a9f6-a3306d0c9279\"><img src=\"\"></img></div>"
      ],
      "text/plain": [
       "<IPython.core.display.HTML object>"
      ]
     },
     "metadata": {},
     "output_type": "display_data"
    }
   ],
   "source": [
    "event0_sa = arcgis.geometry.Geometry(\n",
    "    calc_service_area(event0, baseline=True)['saPolygons']['features'][0]['geometry'],\n",
    "    spatialReference=sref_3857\n",
    ")\n",
    "m = gis.map(\"San Diego\", zoomlevel=10)\n",
    "m.draw(event0_sa)\n",
    "m.add_layer(freeways)\n",
    "events_sdf.iloc[[0]].spatial.plot(map_widget=m)\n",
    "m"
   ]
  },
  {
   "cell_type": "code",
   "execution_count": 7,
   "metadata": {
    "slideshow": {
     "slide_type": "subslide"
    }
   },
   "outputs": [
    {
     "data": {
      "text/html": [
       "<div>\n",
       "<style scoped>\n",
       "    .dataframe tbody tr th:only-of-type {\n",
       "        vertical-align: middle;\n",
       "    }\n",
       "\n",
       "    .dataframe tbody tr th {\n",
       "        vertical-align: top;\n",
       "    }\n",
       "\n",
       "    .dataframe thead th {\n",
       "        text-align: right;\n",
       "    }\n",
       "</style>\n",
       "<table border=\"1\" class=\"dataframe\">\n",
       "  <thead>\n",
       "    <tr style=\"text-align: right;\">\n",
       "      <th></th>\n",
       "      <th>service_area</th>\n",
       "      <th>num_vehicles</th>\n",
       "      <th>av_ratio</th>\n",
       "      <th>dist_to_highway</th>\n",
       "    </tr>\n",
       "  </thead>\n",
       "  <tbody>\n",
       "    <tr>\n",
       "      <th>0</th>\n",
       "      <td>4.516798e+06</td>\n",
       "      <td>15931</td>\n",
       "      <td>0.020714</td>\n",
       "      <td>684.266175</td>\n",
       "    </tr>\n",
       "  </tbody>\n",
       "</table>\n",
       "</div>"
      ],
      "text/plain": [
       "   service_area  num_vehicles  av_ratio  dist_to_highway\n",
       "0  4.516798e+06         15931  0.020714       684.266175"
      ]
     },
     "execution_count": 7,
     "metadata": {},
     "output_type": "execute_result"
    }
   ],
   "source": [
    "generate_features(event0)"
   ]
  },
  {
   "cell_type": "markdown",
   "metadata": {
    "slideshow": {
     "slide_type": "slide"
    }
   },
   "source": [
    "We've generated features for over a third of our dataset... but managed to burn through 2000+ credits while doing so."
   ]
  },
  {
   "cell_type": "markdown",
   "metadata": {
    "slideshow": {
     "slide_type": "fragment"
    }
   },
   "source": [
    "The results are already becoming clear though!"
   ]
  },
  {
   "cell_type": "markdown",
   "metadata": {
    "slideshow": {
     "slide_type": "subslide"
    }
   },
   "source": [
    "All we need to build a model now is historical service areas!"
   ]
  },
  {
   "cell_type": "markdown",
   "metadata": {
    "slideshow": {
     "slide_type": "fragment"
    }
   },
   "source": [
    "```\n",
    "X = generate_features([events])\n",
    "\n",
    "impacted_areas = area_service_area([\n",
    "    calc_service_area([events], baseline=False)\n",
    "])\n",
    "y = (impacted_areas - X.service_areas) / X.service_areas\n",
    "\n",
    "model.fit(X, y)\n",
    "```"
   ]
  },
  {
   "cell_type": "markdown",
   "metadata": {
    "slideshow": {
     "slide_type": "slide"
    }
   },
   "source": [
    "## A \"real\" example\n",
    "\n",
    "There's an event tonight, the *DSC 170 Final Project Presentation Party* is located at *32.877651, -117.237256*, is of type *'exhibit'*, starts at *6:30* and has an expected attendance of *4,000* (!!!).\n",
    "\n",
    "Calculating the service area at the start of this event, we find an impacted service area of *15,000,000* square meters."
   ]
  },
  {
   "cell_type": "code",
   "execution_count": 8,
   "metadata": {
    "slideshow": {
     "slide_type": "subslide"
    }
   },
   "outputs": [
    {
     "data": {
      "text/plain": [
       "latitude                                                32.8777\n",
       "longitude                                              -117.237\n",
       "date                                                 2019-06-06\n",
       "start                                                  18:30:00\n",
       "title                          dsc 170 final presentation party\n",
       "total_atte                                                 4000\n",
       "type                                                    exhibit\n",
       "SHAPE         {'x': -13050791.639920656, 'y': 3879075.417441...\n",
       "Name: 0, dtype: object"
      ]
     },
     "execution_count": 8,
     "metadata": {},
     "output_type": "execute_result"
    }
   ],
   "source": [
    "dsc170 = pd.DataFrame(columns=[\"latitude\", \"longitude\", \"date\", \"start\", \"title\", \"total_atte\", \"type\"],\n",
    "                     data=[[32.877651, -117.237256, \"2019-06-06\", \"18:30:00\", \"dsc 170 final presentation party\", 4000, \"exhibit\"]]\n",
    ")\n",
    "dsc170_sdf = pd.DataFrame.spatial.from_xy(dsc170, \"longitude\", \"latitude\", sr=4326)\n",
    "dsc170_sdf[\"SHAPE\"] = arcgis.geometry.project([dsc170.SHAPE[0]], in_sr=4326, out_sr=3857)\n",
    "dsc170_sdf.loc[0]"
   ]
  },
  {
   "cell_type": "code",
   "execution_count": 9,
   "metadata": {
    "slideshow": {
     "slide_type": "subslide"
    }
   },
   "outputs": [
    {
     "data": {
      "text/html": [
       "<div>\n",
       "<style scoped>\n",
       "    .dataframe tbody tr th:only-of-type {\n",
       "        vertical-align: middle;\n",
       "    }\n",
       "\n",
       "    .dataframe tbody tr th {\n",
       "        vertical-align: top;\n",
       "    }\n",
       "\n",
       "    .dataframe thead th {\n",
       "        text-align: right;\n",
       "    }\n",
       "</style>\n",
       "<table border=\"1\" class=\"dataframe\">\n",
       "  <thead>\n",
       "    <tr style=\"text-align: right;\">\n",
       "      <th></th>\n",
       "      <th>total_atte</th>\n",
       "      <th>type</th>\n",
       "      <th>service_area</th>\n",
       "      <th>num_vehicles</th>\n",
       "      <th>av_ratio</th>\n",
       "      <th>dist_to_highway</th>\n",
       "    </tr>\n",
       "  </thead>\n",
       "  <tbody>\n",
       "    <tr>\n",
       "      <th>0</th>\n",
       "      <td>4000</td>\n",
       "      <td>exhibit</td>\n",
       "      <td>1.713553e+07</td>\n",
       "      <td>15473</td>\n",
       "      <td>0.258515</td>\n",
       "      <td>788.020208</td>\n",
       "    </tr>\n",
       "  </tbody>\n",
       "</table>\n",
       "</div>"
      ],
      "text/plain": [
       "   total_atte     type  service_area  num_vehicles  av_ratio  dist_to_highway\n",
       "0        4000  exhibit  1.713553e+07         15473  0.258515       788.020208"
      ]
     },
     "execution_count": 9,
     "metadata": {},
     "output_type": "execute_result"
    }
   ],
   "source": [
    "X = (\n",
    "    pd.concat([dsc170_sdf, generate_features(dsc170_sdf.loc[0])], axis=1)\n",
    "    [[\"total_atte\", \"type\", \"service_area\", \"num_vehicles\", \"av_ratio\", \"dist_to_highway\"]]\n",
    ")\n",
    "X"
   ]
  },
  {
   "cell_type": "code",
   "execution_count": 10,
   "metadata": {
    "slideshow": {
     "slide_type": "subslide"
    }
   },
   "outputs": [
    {
     "data": {
      "text/plain": [
       "-0.12462563567923099"
      ]
     },
     "execution_count": 10,
     "metadata": {},
     "output_type": "execute_result"
    }
   ],
   "source": [
    "y = (15_000_000 - X.service_area[0]) / X.service_area[0]\n",
    "y"
   ]
  },
  {
   "cell_type": "markdown",
   "metadata": {
    "slideshow": {
     "slide_type": "slide"
    }
   },
   "source": [
    "## We're done\n",
    "\n",
    "Although we don't have access to historical traffic data, our project built the framework on which analysis could be conducted.\n",
    "\n",
    "- We underwent the cleaning process for events and service-area data\n",
    "- We researched and selected features that are strong potential predictors of traffic-impact\n",
    "- We generated features, using geo-analysis and geo-enrichment, which could be used to train a machine learning model\n",
    "- We had a great time!"
   ]
  },
  {
   "cell_type": "markdown",
   "metadata": {
    "slideshow": {
     "slide_type": "subslide"
    }
   },
   "source": [
    "# Thank you"
   ]
  }
 ],
 "metadata": {
  "celltoolbar": "Slideshow",
  "kernelspec": {
   "display_name": "Python 3",
   "language": "python",
   "name": "python3"
  },
  "language_info": {
   "codemirror_mode": {
    "name": "ipython",
    "version": 3
   },
   "file_extension": ".py",
   "mimetype": "text/x-python",
   "name": "python",
   "nbconvert_exporter": "python",
   "pygments_lexer": "ipython3",
   "version": "3.7.1"
  }
 },
 "nbformat": 4,
 "nbformat_minor": 2
}
