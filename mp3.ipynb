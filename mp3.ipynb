{
 "cells": [
  {
   "cell_type": "markdown",
   "metadata": {},
   "source": [
    "# Mini Project 3\n",
    "## Bike paths and accidents\n",
    "\n",
    "**Names:** Enrique Sanchez, Parker Addison"
   ]
  },
  {
   "cell_type": "markdown",
   "metadata": {},
   "source": [
    "> You can jump to my favorite section [here](#favorite-section)."
   ]
  },
  {
   "cell_type": "markdown",
   "metadata": {},
   "source": [
    "Are you more or less likely to face injurity in a bike-related accident if that accident occurs on a bike path or not?  What if you look at this dependent on severity, zipcode, or type of parties involved?  Where in the city of San Diego are you more likely to get into an accident involving alcohol?  Can this be explained by additional statistics by zipcode, such as the number of bars in a zipcode?\n",
    "\n",
    "We can answer all of these questions, and more, by using the ArcGIS API for Python.\n",
    "\n",
    "Remember that in the first lecture we found a layer containing collisions and bike routes.  This file showed bike and pedestrian TIMS-geocoded (Transpotation Injury Mapping System) collisions in San Diego county.  You can view the relevant metadata at https://tims.berkeley.edu/help/SWITRS.php (Statewide Integrated Traffic Records System from CA Highway Patrol)\n",
    "\n",
    "\n",
    "Your tasks include:\n",
    "1. At the site above, go to SWITRS Query and Map, then request bike collision data between 1/1/2014 and 12/31/2018 for San Diego city.\n",
    "1. Download and explore the collision data.  Also download and explore party and victim data.\n",
    "1. Explor and understand the fields you need to work with. See SWITRS FAQ page at https://tims.berkeley.edu/help/Query_and_Map.php#FAQs and the codebook at https://tims.berkeley.edu/help/SWITRS.php#Codebook. SWITRS is relatively well documented.\n",
    "1. Find a way to join all three tables (collisions, parties, victims). Note that there are similarly-named fields in the three tables, but they can mean different things or be applied to different groups.\n",
    "1. Create point map of collisions.\n",
    "1. Save the joined table as a feature service on ArcGIS Online.\n",
    "1. Identify collisions that happened on versus off of a bike path. This can be tricky. Geometrically, what does it mean to \"be on a bike path\"?  Also, which ArcGIS techniques can you use to connect Collisions to Bike Routes?\n",
    "1. Summarize collision trends by zipcode, and use geoenrichment to add additional data to the zipcodes table.\n",
    "1. Analyze the collisions and zipcode layers, answering the questions above.  Use a technique such as regression to build a model and/or further your analysis.\n",
    "\n",
    "Deliverables:\n",
    "1. Maps of bicycle accidents and bike paths, dependent on a) alcohol involvement, b) whether the ciclist was at fault due to impairment, and c) type of parties involved.\n",
    "2. By zipcode, display accidents with alcohol involved as well as one other variable that may explain it based on your exploration.\n",
    "3. A brief description of findings (300 words or more)\n",
    "4. URLs for all resources you've added to ArcGIS Online\n",
    "5. For extra credit: a) interesting exploration involving the victims table and b) insights that can be presented to a local planning commission to reduce the risk or severity of bike collisions"
   ]
  },
  {
   "cell_type": "code",
   "execution_count": 1,
   "metadata": {
    "scrolled": true
   },
   "outputs": [],
   "source": [
    "import pandas as pd\n",
    "import numpy as np\n",
    "import seaborn as sns\n",
    "import matplotlib.pyplot as plt\n",
    "\n",
    "import arcgis\n",
    "from arcgis.gis import GIS\n",
    "from arcgis.features.find_locations import find_existing_locations\n",
    "from arcgis.geoenrichment import standard_geography_query, enrich\n",
    "\n",
    "import scipy\n",
    "import sklearn"
   ]
  },
  {
   "cell_type": "code",
   "execution_count": 2,
   "metadata": {
    "scrolled": true
   },
   "outputs": [
    {
     "name": "stdout",
     "output_type": "stream",
     "text": [
      "Enter password: ········\n"
     ]
    }
   ],
   "source": [
    "gis = GIS(username='pgaddiso_UCSDOnline8')"
   ]
  },
  {
   "cell_type": "code",
   "execution_count": null,
   "metadata": {
    "scrolled": true
   },
   "outputs": [],
   "source": [
    "# 1. Loading the data."
   ]
  },
  {
   "cell_type": "code",
   "execution_count": 3,
   "metadata": {
    "scrolled": true
   },
   "outputs": [],
   "source": [
    "# Lets go ahead and read in the data.\n",
    "\n",
    "# This is data from San Diego City.\n",
    "collisions = pd.read_csv(\"data/Collisions.csv\")\n",
    "parties = pd.read_csv(\"data/Parties.csv\")\n",
    "victims = pd.read_csv(\"data/Victims.csv\")"
   ]
  },
  {
   "cell_type": "code",
   "execution_count": null,
   "metadata": {
    "scrolled": true
   },
   "outputs": [],
   "source": [
    "# 2. Joining party (and victims for extra credit) to the collisions data"
   ]
  },
  {
   "cell_type": "code",
   "execution_count": 4,
   "metadata": {
    "scrolled": false
   },
   "outputs": [],
   "source": [
    "# In order to join these data frames together, we must find the columns they share\n",
    "shared_collisions_parties = list(set(collisions.columns) & set(parties.columns))\n",
    "\n",
    "# We can see that they all share two columns names: ACCIDENT_YEAR and CASE_ID\n",
    "# We should note that when we join collisions and parties, CASE_ID will no longer be\n",
    "# unique. We will have n similar CASE_IDs where n is the party size involved in collision.\n",
    "collisions_parties = collisions.merge(parties, on=shared_collisions_parties)\n",
    "\n",
    "# Since we now have party information and collision data together, we must merge it with\n",
    "# victim data. However, we cannot merge only on CASE_ID since this will lead to \n",
    "# unwanted repetition. Instead, we should merge on CASE_ID and PARTY_NUMBER so we merge\n",
    "# the correct victim information to the corresponding victim in the joint collisions above.\n",
    "#\n",
    "# Note that we're using a left join here because we have data for only a subset (~2700) of\n",
    "# victims.  We don't want this to affect our analysis of the collisions, so we want to keep\n",
    "# all of our collision entries!\n",
    "shared_with_victims = list(set(collisions_parties.columns) & set(victims.columns))\n",
    "all_data = collisions_parties.merge(victims, on=shared_with_victims, how=\"left\")"
   ]
  },
  {
   "cell_type": "code",
   "execution_count": null,
   "metadata": {
    "scrolled": true
   },
   "outputs": [],
   "source": [
    "# 3. Cleaning spatial data and creating a point map of collisions."
   ]
  },
  {
   "cell_type": "code",
   "execution_count": 5,
   "metadata": {
    "scrolled": true
   },
   "outputs": [],
   "source": [
    "# Our data has LONGITUDE and LATITUDE which are generated by GPS, as well as POINT_X and POINT_Y\n",
    "# which have been geocoded already.\n",
    "#\n",
    "# We should fill in any missing lat-long with their point_x and point_y, since the lat-long are\n",
    "# likely more accurate since they were generated at the scene.\n",
    "\n",
    "# If we attempt to create a point layer for collisions as is, we will be unable \n",
    "# to plot as it is missing 355 coordinate pairs. Therefore, we should remove\n",
    "# the rows that have the coordinates missing.\n",
    "\n",
    "# Additionally, let's not confuse ourselves!  We'll drop the POINT_X, POINT_Y, LONGITUDE, and\n",
    "# LATITUDE columns once we create the new columns.\n",
    "\n",
    "def clean_coords(df):\n",
    "    df_xy = (\n",
    "        df\n",
    "        .assign(\n",
    "            x=all_data.LONGITUDE.combine_first(all_data.POINT_X),\n",
    "            y=all_data.LATITUDE.combine_first(all_data.POINT_Y)\n",
    "        )\n",
    "        .drop([\"POINT_X\", \"POINT_Y\", \"LONGITUDE\", \"LATITUDE\"], axis=1)\n",
    "        .dropna(subset=['x', 'y'])\n",
    "    )\n",
    "    \n",
    "    return df_xy\n",
    "\n",
    "collisions = clean_coords(collisions)\n",
    "\n",
    "# Now that we have the coordinates in the right place, we will create a\n",
    "# spatial data frame.\n",
    "#\n",
    "# For whatever reason, we won't be able to fully plot our sdf unless we drop\n",
    "# additional columns.\n",
    "#\n",
    "# Note: This is an sdf of just the collisions.\n",
    "sdf = (\n",
    "    pd.DataFrame.spatial.from_xy(collisions, x_column = 'x', y_column='y')\n",
    "    .replace(np.NaN, '', regex=True)\n",
    "    .drop([\"PCF_VIOLATION\"], axis=1)\n",
    ")\n",
    "sdf = sdf.replace(np.nan, '', regex=True)"
   ]
  },
  {
   "cell_type": "code",
   "execution_count": null,
   "metadata": {},
   "outputs": [],
   "source": [
    "# Now we can plot all collisions!\n",
    "map1 = gis.map(\"San Diego\", zoomlevel=10)\n",
    "sdf.spatial.plot(map_widget=map1, alpha=.3)\n",
    "map1"
   ]
  },
  {
   "cell_type": "code",
   "execution_count": null,
   "metadata": {
    "scrolled": true
   },
   "outputs": [],
   "source": [
    "# 4. Classifying on-path and off-path collisions and summarizing different collision types by zipcode."
   ]
  },
  {
   "cell_type": "code",
   "execution_count": 6,
   "metadata": {
    "scrolled": true
   },
   "outputs": [],
   "source": [
    "# First we should get a hold of San Diego bike routes.\n",
    "#\n",
    "# Data description:\n",
    "# \"\"\"\n",
    "# This dataset uses the SanGIS Roads_All layer as the basis for the linear\n",
    "# features. SANDAG obtained input on bike network data from local jurisdictions\n",
    "# in 2017 and 2018 and used this information to update the regional bikeways\n",
    "# dataset. For specific information regarding the status of bike facilities\n",
    "# represented in the data, please contact bike planning staff for the respective\n",
    "# local jurisdictions.\n",
    "#\n",
    "# This data has been reprojected for purposes of the San Diego Ocean Planning\n",
    "# Partnership, a collaborative pilot project between the California State Lands\n",
    "# Commission and the Port of San Diego. For more information about the\n",
    "# Partnership, please visit: https://www.sdoceanplanning.org/ These routes,\n",
    "# while being well outside of the planning boundary, show conduits for coastal\n",
    "# access from communities across San Diego. As with all data shown outside of\n",
    "# the preliminary planning boundary, this data is included for reference only.\n",
    "#\n",
    "# This dataset is available for viewing in an interactive web map. Visit\n",
    "# 511sd.com/bikemap to view the interactive map. \n",
    "# \"\"\"\n",
    "#\n",
    "# Source:\n",
    "# https://ucsdonline.maps.arcgis.com/home/item.html?id=086106add0a645ba864db08f45c795ea\n",
    "\n",
    "bike_routes_fl = gis.content.get(\"086106add0a645ba864db08f45c795ea\")\n",
    "\n",
    "# Let's also read in our collision data from ArcGIS Online\n",
    "\n",
    "# ---------------------------------------------------------------------------- #\n",
    "# Exporting our collisions sdf to a feature layer.\n",
    "#\n",
    "# Note: This only needs to be run once.  It should be shared and accessible now!\n",
    "\n",
    "# collisions_fl = sdf.spatial.to_featurelayer(\"MP3-BikeCollisions\", gis, [\"bike\", \"collisions\"])\n",
    "# collisions_fl.share(org=True)\n",
    "# ---------------------------------------------------------------------------- #\n",
    "\n",
    "collisions_fl = gis.content.get(\"17010ad85a8d43159bd786b34144b96e\")\n",
    "\n",
    "\n",
    "# After a bit of analysis, we determined that 40 feet is a pretty\n",
    "# good estimate for the error between a true bike path and \n",
    "# bike collision.\n",
    "#\n",
    "# Many bike paths are drawn through the center of large roads such as Gilman or\n",
    "# Genesee, as opposed to having a bike path for each direction.  These roads are\n",
    "# often two to three lanes each direction, and thus there's an expected error of\n",
    "# about ~24–36 feet between the median strip and a bike lane (side of road).\n",
    "#\n",
    "# It is also likely that locations are reported from the sidewalk, as opposed to\n",
    "# the center of the road, so there may be additional error between the bike lane\n",
    "# and the sidewalk where the incident was reported.\n",
    "#\n",
    "# Unfortunately, for narrower bike paths or roads, this buffer may be too large;\n",
    "# perhaps we are capturing collisions that took place across the street...\n",
    "#\n",
    "# This is an issue that probably requires the use of different sized buffers\n",
    "# around the different types of bike routes listed in our data source.  However,\n",
    "# we don't quite have enough domain expertise in the field of bike paths to know\n",
    "# what sort of bike routes there are, and what sort of buffers make sense.\n",
    "#\n",
    "# For the purpose of our analysis, what we currently have works fine!\n",
    "\n",
    "# ---------------------------------------------------------------------------- #\n",
    "# It should be noted that using `find_existing_locations` resulted in some bugs,\n",
    "# in which some collisions would be selected when they shouldn't have, and vice\n",
    "# versa.\n",
    "#\n",
    "# Additionally, `join_features` is preferred here so that we have access to the\n",
    "# type of route that the collision took place on, which may be interesting for\n",
    "# future analysis.\n",
    "\n",
    "# Note: This only needs to be run once.  It should be shared and accessible now!\n",
    "\n",
    "# path_collisions_fl = arcgis.join_features(\n",
    "#     collisions_fl.layers[0], bike_routes_fl.layers[0], \"withindistance\", 40, \"Feet\",\n",
    "#     output_name=\"MP3-PathCollisions\"\n",
    "# )\n",
    "# path_collisions_fl.share(org=True)\n",
    "# ---------------------------------------------------------------------------- #\n",
    "\n",
    "path_collisions_fl = gis.content.get(\"199dffb82ba44d499e00a728a40403df\")"
   ]
  },
  {
   "cell_type": "code",
   "execution_count": null,
   "metadata": {},
   "outputs": [],
   "source": [
    "# Let's plot the data to verify the accuracy of on-path collisions.\n",
    "\n",
    "# Multi colored lines: Bike paths\n",
    "# Orange dots: Collision\n",
    "# Blue dots: Collision on a bike path\n",
    "map2 = gis.map(\"San Diego\", zoomlevel=10)\n",
    "map2.add_layer(path_collisions_fl)\n",
    "map2.add_layer(bike_routes_fl, {'opacity':.6})\n",
    "map2.add_layer(collisions_fl)\n",
    "map2"
   ]
  },
  {
   "cell_type": "code",
   "execution_count": 7,
   "metadata": {
    "scrolled": true
   },
   "outputs": [],
   "source": [
    "# Let's convert the bike path collisions into a spatial data frame so that we can\n",
    "# add a boolean to our collisions feature layer.\n",
    "path_collisions_df = path_collisions_fl.layers[0].query().sdf\n",
    "\n",
    "# Since path_collisions_df contains CASE_ID, we can add a boolean column to our\n",
    "# original sdf that signifies whether or not the collision was on a bike path\n",
    "on_path_bools = sdf.CASE_ID.isin(path_collisions_df.CASE_ID)\n",
    "\n",
    "\n",
    "# Adding zip codes to our original sdf will be helpful for future analysis\n",
    "# in determining exactly where these collisions are occurring.\n",
    "#\n",
    "# We decided to use a spatial join here, as reverse geocoding would have involved\n",
    "# additional cleanup to extract the zipcode from the addresses, and could result\n",
    "# in incorrect zipcodes if the bike path has no nearby addresses.\n",
    "\n",
    "# Reading in zip code data\n",
    "sd_zip_codes = gis.content.search('title: San Diego Zip Codes', outside_org=True)[0]\n",
    "zip_codes = sd_zip_codes.layers[0]\n",
    "\n",
    "# ---------------------------------------------------------------------------- #\n",
    "# Spatial join between collision layer and this new layer\n",
    "# join = arcgis.join_features(\n",
    "#     collisions_fl, zip_codes, spatial_relationship='within',\n",
    "#     output_name=\"MP3-CollisionsWithZipcodes\"\n",
    "# )\n",
    "# join.share(org=True)\n",
    "# ---------------------------------------------------------------------------- #\n",
    "\n",
    "join = gis.content.get(\"0ca2a0a2ed054133a39271590ae90381\")\n",
    "collisions_zipcodes = join.layers[0].query().sdf\n",
    "\n",
    "\n",
    "# Now we can add the zip codes and path booleans to sdf\n",
    "collisions_sdf = (\n",
    "    sdf.assign(\n",
    "        ON_PATH=on_path_bools,\n",
    "        ZIPCODE=collisions_zipcodes.ZIP,\n",
    "    )\n",
    "    .merge(path_collisions_df[[\"CASE_ID\", \"ROUTE\"]], on=\"CASE_ID\", how=\"left\")\n",
    ")"
   ]
  },
  {
   "cell_type": "code",
   "execution_count": null,
   "metadata": {
    "scrolled": true
   },
   "outputs": [],
   "source": [
    "# 5. Generating maps"
   ]
  },
  {
   "cell_type": "code",
   "execution_count": 8,
   "metadata": {},
   "outputs": [],
   "source": [
    "# Some setup for the maps:\n",
    "\n",
    "map_sdf = collisions_sdf.copy()\n",
    "\n",
    "### For the alcohol question ###\n",
    "\n",
    "# Let's clean the alcohol column in the sdf\n",
    "map_sdf[\"ALCOHOL_INVOLVED\"] = map_sdf[\"ALCOHOL_INVOLVED\"].replace({'':\"False\", 'Y': \"True\"})\n",
    "\n",
    "\n",
    "### For the impairment question ###\n",
    "\n",
    "# Let's determine which cases involved bikers that were at fault and impaired\n",
    "\n",
    "# NOTE: The PARTY_SOBRIETY column has many vlaues where the impairment in unknown.\n",
    "# In order to not make false assumptions, we will only count impaired as those\n",
    "# with the value 'B': Had been drinking, under influence\n",
    "# Also, those who are under drug influence or physical impairment in PARTY_DRUG_PHYSICAL\n",
    "impaired = collisions_parties[(collisions_parties['PARTY_TYPE'] == '4') & \n",
    "                              (collisions_parties['AT_FAULT'] == 'Y') &\n",
    "                              ((collisions_parties['PARTY_SOBRIETY'].isin(['B'])) |\n",
    "                               (collisions_parties['PARTY_DRUG_PHYSICAL'] == 'E') | \n",
    "                               (collisions_parties['PARTY_DRUG_PHYSICAL'] == 'F'))]\n",
    "\n",
    "impaired_cases = impaired['CASE_ID'].unique()\n",
    "\n",
    "# Lets now create a column in our sdf signifying whether the bicylcist\n",
    "# was at fault and impaired\n",
    "map_sdf['BIKE_IMPAIRED'] = map_sdf['CASE_ID'].isin(impaired_cases).astype(str)\n",
    "\n",
    "\n",
    "### For the party question ###\n",
    "\n",
    "# Let's figure out the different party combinations that we have\n",
    "party_types = {\n",
    "    '1': \"Driver\",\n",
    "    '2': \"Pedestrian\",\n",
    "    '3': \"Parked Vehicle\",\n",
    "    '4': \"Bicyclist\",\n",
    "    '5': \"Other\",\n",
    "    '-': \"Unknown\"\n",
    "}\n",
    "\n",
    "party_combos = (\n",
    "    collisions_parties\n",
    "    .assign(PARTY_TYPE=collisions_parties.PARTY_TYPE.replace(party_types))\n",
    "    .groupby('CASE_ID')\n",
    "    .PARTY_TYPE\n",
    "    .apply(lambda x: tuple(np.sort(x.tolist())))\n",
    ")\n",
    "\n",
    "combos_less_than_three = party_combos.value_counts().loc[lambda ser: ser < 3].index\n",
    "\n",
    "party_combos[party_combos.isin(combos_less_than_three)] = \"Other Combination\"\n",
    "\n",
    "map_sdf = map_sdf.merge(party_combos.astype(str).to_frame(), left_on=\"CASE_ID\", right_index=True)"
   ]
  },
  {
   "cell_type": "markdown",
   "metadata": {},
   "source": [
    "**1a.**\n",
    "Let's begin by generating a map of bike collisions dependent on whether or not alcohol was involved."
   ]
  },
  {
   "cell_type": "code",
   "execution_count": 9,
   "metadata": {
    "scrolled": true
   },
   "outputs": [
    {
     "name": "stdout",
     "output_type": "stream",
     "text": [
      "Number of collisions where alcohol was involved: 183\n"
     ]
    }
   ],
   "source": [
    "print('Number of collisions where alcohol was involved: %d' %sum(map_sdf['ALCOHOL_INVOLVED'] == \"True\"))"
   ]
  },
  {
   "cell_type": "code",
   "execution_count": null,
   "metadata": {},
   "outputs": [],
   "source": [
    "map3 = gis.map(\"San Diego\", zoomlevel=10)\n",
    "map3.add_layer(bike_routes_fl, {'opacity':0.3})\n",
    "# Note that the color map is not fully deterministic...\n",
    "# If the colors are too similar, running this cell again will likely fix the issue.\n",
    "map_sdf.spatial.plot(map_widget=map3, renderer_type= 'u', col='ALCOHOL_INVOLVED', cmap='plasma')\n",
    "map3.legend=True\n",
    "map3"
   ]
  },
  {
   "cell_type": "markdown",
   "metadata": {},
   "source": [
    "**1b.** \n",
    "Now we want a map dependent on whether the bicyclist was at fault due to impairment."
   ]
  },
  {
   "cell_type": "code",
   "execution_count": 10,
   "metadata": {
    "scrolled": true
   },
   "outputs": [
    {
     "name": "stdout",
     "output_type": "stream",
     "text": [
      "Number of collisions where bicyclist was at fault due to impairment: 31\n"
     ]
    }
   ],
   "source": [
    "print('Number of collisions where bicyclist was at fault due to impairment: %d' %sum(map_sdf[\"BIKE_IMPAIRED\"] == \"True\"))"
   ]
  },
  {
   "cell_type": "code",
   "execution_count": null,
   "metadata": {},
   "outputs": [],
   "source": [
    "map4 = gis.map(\"San Diego\", zoomlevel=10)\n",
    "# Note that the color map is not fully deterministic...\n",
    "# If the colors are too similar, running this cell again will likely fix the issue.\n",
    "map_sdf.spatial.plot(map_widget=map4, renderer_type='u', col='BIKE_IMPAIRED', cmap='plasma')\n",
    "map4.add_layer(bike_routes_fl, {'opacity':.5})\n",
    "map4.legend=True\n",
    "map4"
   ]
  },
  {
   "cell_type": "markdown",
   "metadata": {},
   "source": [
    "**1c.**\n",
    "Lastly, we want a map of collisions dependent on the types of the other party."
   ]
  },
  {
   "cell_type": "code",
   "execution_count": null,
   "metadata": {},
   "outputs": [],
   "source": [
    "# Now we can plot!\n",
    "map5 = gis.map(\"San Diego\", zoomlevel=10)\n",
    "# Note that the color map is not fully deterministic...\n",
    "# If the colors are too similar, running this cell again will likely fix the issue.\n",
    "map_sdf.spatial.plot(map_widget=map5, renderer_type='u', col=\"PARTY_TYPE\", cmap=\"plasma\")\n",
    "map5.add_layer(bike_routes_fl, {'opacity':.5})\n",
    "map5.legend=True\n",
    "map5"
   ]
  },
  {
   "cell_type": "code",
   "execution_count": null,
   "metadata": {
    "scrolled": true
   },
   "outputs": [],
   "source": [
    "# 6. Analyze the data and respond to the above questions"
   ]
  },
  {
   "cell_type": "markdown",
   "metadata": {
    "deletable": false,
    "nbgrader": {
     "checksum": "44ae55a75f5de20170f9b6909ddb8245",
     "grade": true,
     "grade_id": "cell-1eddfee53360f3fb",
     "locked": false,
     "points": 10,
     "schema_version": 1,
     "solution": true
    }
   },
   "source": [
    "**Are you more likely to be injured in a bike-related accident if it occurs on or off of a bike path?**"
   ]
  },
  {
   "cell_type": "markdown",
   "metadata": {},
   "source": [
    "First and foremost, we should determine the proportion of bike collisions that occurred on bike paths."
   ]
  },
  {
   "cell_type": "code",
   "execution_count": 11,
   "metadata": {
    "scrolled": true
   },
   "outputs": [
    {
     "name": "stdout",
     "output_type": "stream",
     "text": [
      "Proportion of bike collisions on bike path: 0.627083\n"
     ]
    }
   ],
   "source": [
    "prop_path = collisions_sdf.ON_PATH.mean()\n",
    "print('Proportion of bike collisions on bike path: %f' %prop_path)"
   ]
  },
  {
   "cell_type": "code",
   "execution_count": 12,
   "metadata": {},
   "outputs": [
    {
     "name": "stdout",
     "output_type": "stream",
     "text": [
      "Average proportion of on-path bike collisions when grouping by zipcode: 0.6125254458867019\n"
     ]
    }
   ],
   "source": [
    "# Let's make sure we're not looking at a case of Simpson's Paradox!\n",
    "#\n",
    "# If we group by zipcode, do we still see roughly the same proportion?\n",
    "print(\n",
    "    \"Average proportion of on-path bike collisions when grouping by zipcode:\",\n",
    "    collisions_sdf.groupby(\"ZIPCODE\").ON_PATH.mean().mean()\n",
    ")"
   ]
  },
  {
   "cell_type": "markdown",
   "metadata": {},
   "source": [
    "Over 60% of collisions occur on a path!  While this may sounds like being on a path is more dangerous than being off a path, it is actually inconclusive in either direction, since we don't have any idea how many cyclists ride on bike paths versus off of bike paths.  Thus, we have no way to find collisions *rates* for on-versus-off path.  We'll need to find another way to investigate this.\n",
    "\n",
    "We can compare the the injury rates on and off bike paths.\n",
    "\n",
    "TIMS provides some meta data on the collision severity column:\n",
    "\n",
    "- 1 - Fatal\n",
    "- 2 - Injury (Severe)\n",
    "- 3 - Injury (Other Visible)\n",
    "- 4 - Injury (Complaint of Pain)\n",
    "- 0 – Property Damage Only (PDO)\n",
    "\n",
    "We can consider any value between 1–4 as an injury."
   ]
  },
  {
   "cell_type": "code",
   "execution_count": 13,
   "metadata": {
    "scrolled": true
   },
   "outputs": [
    {
     "data": {
      "text/plain": [
       "ON_PATH\n",
       "False    1.0\n",
       "True     1.0\n",
       "Name: COLLISION_SEVERITY, dtype: float64"
      ]
     },
     "execution_count": 13,
     "metadata": {},
     "output_type": "execute_result"
    }
   ],
   "source": [
    "# Let's compute the proportion of injuries for the collisions\n",
    "# on and off the bike paths\n",
    "collisions_sdf.groupby(\"ON_PATH\")['COLLISION_SEVERITY'].apply(lambda x: sum(x > 0) / len(x))"
   ]
  },
  {
   "cell_type": "markdown",
   "metadata": {},
   "source": [
    "Well, it appears that every collision (on or off a bike path) has resulted in some sort of injury. Therefore, based on the data, you are just as likely to be injured if you are on a bike path as off a bike path.\n",
    "\n",
    "Of course, this is not interesting so we will compare the severity of the injuries on and off bike paths."
   ]
  },
  {
   "cell_type": "code",
   "execution_count": 14,
   "metadata": {
    "scrolled": true
   },
   "outputs": [
    {
     "data": {
      "image/png": "[encoded data removed]",
      "text/plain": [
       "<Figure size 432x288 with 1 Axes>"
      ]
     },
     "metadata": {
      "needs_background": "light"
     },
     "output_type": "display_data"
    }
   ],
   "source": [
    "# We find the rate of each type of severity level.\n",
    "injury_rates = collisions_sdf.groupby(\"ON_PATH\")['COLLISION_SEVERITY'].value_counts(normalize=True).rename('INJURY_RATE')\n",
    "\n",
    "sns.barplot(x='COLLISION_SEVERITY', y='INJURY_RATE', hue='ON_PATH', data = injury_rates.reset_index())\n",
    "plt.title('Injury Rates On and Off Bike Paths');"
   ]
  },
  {
   "cell_type": "markdown",
   "metadata": {},
   "source": [
    "The distributions of collision severities on and off bike paths appear identical. Although there are some differences, they are not extreme enough to convince us that the severity of injuries differ on and off bike paths."
   ]
  },
  {
   "cell_type": "markdown",
   "metadata": {},
   "source": [
    "**How would the results differ for injuries of different severity, by zipcodes, and by the type of other party in the accident?**"
   ]
  },
  {
   "cell_type": "markdown",
   "metadata": {},
   "source": [
    "In the previous question, we analyzed the differences in severity between collisions on and off bike paths so we will now focus on zip codes and the types of the other party."
   ]
  },
  {
   "cell_type": "markdown",
   "metadata": {},
   "source": [
    "Zip codes can be quite interesting as some areas can have more people, more bike paths, etc. Let's quickly analyze the severity of the injuries within each zip code regardless of where the collision occurred. "
   ]
  },
  {
   "cell_type": "code",
   "execution_count": 15,
   "metadata": {
    "scrolled": true
   },
   "outputs": [
    {
     "data": {
      "image/png": "[encoded data removed]",
      "text/plain": [
       "<Figure size 1080x648 with 1 Axes>"
      ]
     },
     "metadata": {
      "needs_background": "light"
     },
     "output_type": "display_data"
    }
   ],
   "source": [
    "# Average severity of every zip code\n",
    "(\n",
    "    collisions_sdf\n",
    "    .groupby('ZIPCODE')['COLLISION_SEVERITY'].mean().sort_values()\n",
    "    .plot(kind='Barh', figsize=(15, 9), color='gray')\n",
    ")\n",
    "\n",
    "plt.xlabel('Severity')\n",
    "plt.ylabel('Zip Code')\n",
    "plt.title('Average Collision Severity by Zip Code');"
   ]
  },
  {
   "cell_type": "markdown",
   "metadata": {},
   "source": [
    "Clearly we can see that some zip codes have greater average severities than other. However, it must be noted that some zip codes have very view collisions so one collision can heavily skew its overall average.  Also, the fact that this data comes from San Diego City may bring higher counts to the zip codes exclusively within it.\n",
    "\n",
    "Let's instead plot the averages for those with at least 20 collisions."
   ]
  },
  {
   "cell_type": "code",
   "execution_count": 16,
   "metadata": {
    "scrolled": true
   },
   "outputs": [
    {
     "data": {
      "image/png": "[encoded data removed]",
      "text/plain": [
       "<Figure size 864x432 with 1 Axes>"
      ]
     },
     "metadata": {
      "needs_background": "light"
     },
     "output_type": "display_data"
    }
   ],
   "source": [
    "sizes = collisions_sdf.groupby('ZIPCODE')['COLLISION_SEVERITY'].size()\n",
    "greater_20_index = sizes[sizes > 20].index\n",
    "greater_20_df = collisions_sdf[collisions_sdf['ZIPCODE'].isin(greater_20_index)]\n",
    "greater_20_df.groupby('ZIPCODE')['COLLISION_SEVERITY'].mean().sort_values().plot(kind='Barh', figsize=(12, 6), color='gray')\n",
    "\n",
    "plt.xlabel('Severity')\n",
    "plt.ylabel('Zip Code')\n",
    "plt.title('Average Collision Severity by Zip Code with 20 or More Collisions');"
   ]
  },
  {
   "cell_type": "markdown",
   "metadata": {},
   "source": [
    "We now have a more accurate representation of how the severity of collisions differs among zip codes. Overall, we can see that they all fall in the lower 3's which represents a visible injury.\n",
    "\n",
    "Let's now break it down based on whether or not they are on bike paths. We will continue focusing on zip codes with at least 20 collisions."
   ]
  },
  {
   "cell_type": "code",
   "execution_count": 17,
   "metadata": {
    "scrolled": false
   },
   "outputs": [
    {
     "data": {
      "image/png": "[encoded data removed]",
      "text/plain": [
       "<Figure size 1080x576 with 1 Axes>"
      ]
     },
     "metadata": {
      "needs_background": "light"
     },
     "output_type": "display_data"
    }
   ],
   "source": [
    "zip_path_rates = greater_20_df.groupby(['ON_PATH', 'ZIPCODE'])['COLLISION_SEVERITY'].mean()\n",
    "\n",
    "plt.figure(figsize=(15,8))\n",
    "sns.barplot(x='ZIPCODE', y='COLLISION_SEVERITY', hue='ON_PATH', data = zip_path_rates.reset_index())\n",
    "plt.title('Average Collision Severity by Zip Codes On and Off Bike Paths')\n",
    "plt.xticks(rotation=60);"
   ]
  },
  {
   "cell_type": "markdown",
   "metadata": {},
   "source": [
    "It is quite difficult to tell visually if the differences are significant. In order to determine whether these distributions are different, we will be conducting a hypothesis test.  A paired, two-sample t-test will be used here, comparing the average collision severity of off-path versus on-path collisions, paired by zipcode.\n",
    "\n",
    "$H_0: \\mu_\\text{off path} = \\mu_\\text{on path},\\quad H_1: \\mu_\\text{off path} \\neq \\mu_\\text{on path},\\quad \\alpha=0.05$"
   ]
  },
  {
   "cell_type": "code",
   "execution_count": 18,
   "metadata": {},
   "outputs": [
    {
     "name": "stdout",
     "output_type": "stream",
     "text": [
      "0.3735379378808439\n"
     ]
    }
   ],
   "source": [
    "t_stat, p_value = scipy.stats.ttest_rel(zip_path_rates[True], zip_path_rates[False])\n",
    "print(p_value)"
   ]
  },
  {
   "cell_type": "markdown",
   "metadata": {},
   "source": [
    "$p=0.37 \\not< \\alpha=0.05$, thus we fail to reject $H_0$.  We don't believe there is any significant difference in average collision severity between on-path versus off-path collisions."
   ]
  },
  {
   "cell_type": "markdown",
   "metadata": {},
   "source": [
    "Now we look at any difference by collision party combinations."
   ]
  },
  {
   "cell_type": "code",
   "execution_count": 19,
   "metadata": {},
   "outputs": [
    {
     "data": {
      "image/png": "[encoded data removed]",
      "text/plain": [
       "<Figure size 576x360 with 1 Axes>"
      ]
     },
     "metadata": {
      "needs_background": "light"
     },
     "output_type": "display_data"
    }
   ],
   "source": [
    "plt.figure(figsize=(8,5))\n",
    "path_combos = map_sdf.groupby(['ON_PATH'])['PARTY_TYPE'].value_counts(normalize=True).rename(0)\n",
    "sns.barplot(x='PARTY_TYPE', y=0, hue='ON_PATH', data = path_combos.reset_index())\n",
    "\n",
    "plt.xlabel('Party Combination')\n",
    "plt.ylabel('Proportion of Collisions')\n",
    "plt.title('Proportion of Collisions by Party Combination On/Off Bike Path')\n",
    "plt.xticks(rotation=60);"
   ]
  },
  {
   "cell_type": "markdown",
   "metadata": {},
   "source": [
    "As we can see, the distributions of the other party on/off bike paths are very similar! The most common collision on/off a bike path occurs between the bicyclist and driver.\n",
    "\n",
    "Although they are similar in this sense, let's see if there is a difference in the severities by each party category."
   ]
  },
  {
   "cell_type": "code",
   "execution_count": 20,
   "metadata": {},
   "outputs": [
    {
     "data": {
      "text/plain": [
       "PARTY_TYPE\n",
       "('Bicyclist', 'Bicyclist')                   3.000000\n",
       "('Bicyclist', 'Bicyclist', 'Driver')         3.000000\n",
       "('Bicyclist', 'Driver')                      3.304589\n",
       "('Bicyclist', 'Driver', 'Driver')            3.235294\n",
       "('Bicyclist', 'Driver', 'Parked Vehicle')    3.000000\n",
       "('Bicyclist', 'Other')                       3.333333\n",
       "('Bicyclist', 'Parked Vehicle')              3.171875\n",
       "('Bicyclist', 'Pedestrian')                  3.312500\n",
       "('Bicyclist',)                               3.096360\n",
       "Other Combination                            3.083333\n",
       "Name: COLLISION_SEVERITY, dtype: float64"
      ]
     },
     "execution_count": 20,
     "metadata": {},
     "output_type": "execute_result"
    }
   ],
   "source": [
    "map_sdf.groupby(\"PARTY_TYPE\")[\"COLLISION_SEVERITY\"].mean()"
   ]
  },
  {
   "cell_type": "markdown",
   "metadata": {},
   "source": [
    "Based on the above, collisions involving more than one bicyclist seem associated with very slightly more severe injuries.  This could possibly be explained by there being twice as many people who are likely to be injured!  Overall, the differences in average severity are very slight, and not too much inference can be reliably ascertained.\n",
    "\n",
    "Let's check if things change when we split up the data on whether or not they are on bike paths."
   ]
  },
  {
   "cell_type": "code",
   "execution_count": 21,
   "metadata": {},
   "outputs": [
    {
     "data": {
      "image/png": "[encoded data removed]",
      "text/plain": [
       "<Figure size 432x288 with 1 Axes>"
      ]
     },
     "metadata": {
      "needs_background": "light"
     },
     "output_type": "display_data"
    }
   ],
   "source": [
    "# Comparing average severity for different party types between off path and on path collisions.\n",
    "grouped = map_sdf.groupby(['ON_PATH','PARTY_TYPE'])['COLLISION_SEVERITY'].mean().sort_values().rename(0)\n",
    "sns.barplot(x=\"PARTY_TYPE\", y=0, hue=\"ON_PATH\", data=grouped.reset_index())\n",
    "\n",
    "plt.xlabel('Party Combination')\n",
    "plt.ylabel('Average Severity Number')\n",
    "plt.title('Average Severity Number of Collisions by Party Combination On/Off Bike Path')\n",
    "plt.xticks(rotation=60);"
   ]
  },
  {
   "cell_type": "markdown",
   "metadata": {},
   "source": [
    "<a id=\"favorite-section\"></a>"
   ]
  },
  {
   "cell_type": "markdown",
   "metadata": {},
   "source": [
    "The average severity for every party combination dependent on bike paths don't show too much difference.\n",
    "\n",
    "However, a large amount of the \"bike paths\" are really just large roads with bike lanes!\n",
    "\n",
    "What are the differences in severity by route type?  If this is looks promising, then perhaps we can build a classifier for injury based on alcohol involved, route type, and party combination.  Route types are encoded as following:\n",
    "\n",
    "* 0 - Off Path\n",
    "* 1 - Multi-use Path\n",
    "* 2 - Bike Lane\n",
    "* 3 - Bike Route\n",
    "* 6 - Freeway Shoulder Bike Access\n",
    "* 8 - Other Suggested Route"
   ]
  },
  {
   "cell_type": "code",
   "execution_count": 22,
   "metadata": {},
   "outputs": [
    {
     "data": {
      "text/plain": [
       "ROUTE\n",
       "0.0    3.250000\n",
       "1.0    3.400000\n",
       "2.0    3.233591\n",
       "3.0    3.227397\n",
       "6.0    3.250000\n",
       "8.0    3.229452\n",
       "Name: COLLISION_SEVERITY, dtype: float64"
      ]
     },
     "execution_count": 22,
     "metadata": {},
     "output_type": "execute_result"
    }
   ],
   "source": [
    "collisions_sdf.assign(ROUTE=collisions_sdf.ROUTE.fillna(0)).groupby(\"ROUTE\").COLLISION_SEVERITY.mean().sort_index()"
   ]
  },
  {
   "cell_type": "markdown",
   "metadata": {},
   "source": [
    "There's not a large difference between average severity for different routes either... but perhaps there is yet one more interesting calculation we can perform to try to answer whether you are more likely to be injured on versus off of a path.\n",
    "\n",
    "What if we look at a frequentist likelihood of being injured on the different types of routes?\n",
    "\n",
    "We can find a collision rate normalized by route as *\"# of collisions per km of route infrastructure\"*, and then we can compare these values for the different route type!"
   ]
  },
  {
   "cell_type": "code",
   "execution_count": 23,
   "metadata": {},
   "outputs": [
    {
     "data": {
      "text/plain": [
       "ROUTE\n",
       "0.0    0.311415\n",
       "1.0    0.071986\n",
       "2.0    0.254515\n",
       "3.0    0.561342\n",
       "6.0    0.054508\n",
       "8.0    0.495004\n",
       "dtype: float64"
      ]
     },
     "execution_count": 23,
     "metadata": {},
     "output_type": "execute_result"
    }
   ],
   "source": [
    "# NOTE: This cell will take ~1 minute to run, since we need to create study areas and enrich.\n",
    "\n",
    "# Curious how many collisions happened on each route type.  Maybe we can also normalize by total length\n",
    "# of each route type.\n",
    "\n",
    "# Our bike routes feature layer will calculate a Shape__Length feature for us when we convert to a sdf.\n",
    "# Note that this will be in epsg=3857, which is in meters!  Let's just convert to km.\n",
    "meters_to_km = 1 / 1000\n",
    "routes_sdf = bike_routes_fl.layers[0].query().sdf\n",
    "route_lengths = routes_sdf.groupby(\"ROUTE\").Shape__Length.sum() * meters_to_km\n",
    "\n",
    "# But, we don't have any lengths for non-bike routes... sounds like the time for enrich!\n",
    "#\n",
    "# To find the \"length\" of off-path routes, we will:\n",
    "# 1. Create a study area which encompasses all of our collisions.\n",
    "# 2. Enrich the study area with road density\n",
    "# 3. Subtract total bike route length from total road length.\n",
    "\n",
    "# Let's enrich by zipcode, since we have a plan to use zipcode road density in the future.\n",
    "#\n",
    "# In order to enrich areas based on their zipcode, we must get the study area\n",
    "# associated with each zipcode, then pass these in to be enriched.\n",
    "zipcodes = collisions_sdf.ZIPCODE.unique().astype(int).astype(str).tolist()\n",
    "\n",
    "# For some reason the geoquery field is incapable of handling a list!\n",
    "# Thus, the following workaround is born.\n",
    "zipstudies = pd.concat(map(\n",
    "    lambda zipcode: standard_geography_query(\n",
    "        source_country=\"US\", layers=[\"US.ZIP5\"], geoquery=zipcode, return_geometry=True\n",
    "    ).iloc[[0]],\n",
    "    zipcodes\n",
    "))\n",
    "\n",
    "# Can't convince arcgis to run enrich on the sdf either...\n",
    "# So we need to run each one separately.\n",
    "infrastructures = pd.concat(map(\n",
    "    lambda studyrow: enrich(studyrow[1].to_frame().T, [\"Infrastructure\"]),\n",
    "    zipstudies.iterrows()\n",
    "))\n",
    "\n",
    "# The roadsums are in km, just like our route lengths.\n",
    "total_off_path_length = infrastructures.RoadSum.sum() - route_lengths.sum()\n",
    "\n",
    "route_lengths[0] = total_off_path_length\n",
    "\n",
    "# We are essentially calculating number of collisions per kilometer of route infrastructure, for each route type.\n",
    "(\n",
    "    collisions_sdf\n",
    "    .assign(ROUTE=collisions_sdf.ROUTE.fillna(0))\n",
    "    .groupby(\"ROUTE\").CASE_ID.count().sort_index()\n",
    "    / route_lengths\n",
    ")"
   ]
  },
  {
   "cell_type": "markdown",
   "metadata": {},
   "source": [
    "If in fact you were more likely to be injured off of a bike path, then we would expect to see the number of injuries per roadway that is *not* a bike route to be the largest.  We didn't see any result that simple... but if we go a bit deeper, we did uncover some insights.\n",
    "\n",
    "Here's what we uncovered:\n",
    "- Being on a traditional bike path or other walking path without cars (labelled as 1 - Multi-use path) is likely the safest in terms of avoiding collisions (and thus—by our data—injuries, since all collisions resulted in an injury of some kind).\n",
    "- Although the collision rate for 6 - Freeway Shoulder Bike Access is actually lower than Multi-use paths, this is likely because a) There are very few routes in this classification, and b) There are probably very few cyclists who would want to bike on the side of a freeway.  So, we are deciding to mostly ignore this type of route.\n",
    "- The most dangerous routes are \"3 - Bike Route\" and \"8 - Other Suggested Route\".  This also makes sense because both of these classifications are used for roads that do not necessarily have a dedicated bike lane throughout (the road may be shared, or parking in the bike lane may be allowed).  Many streets in the city that have no bike lane whatsoever are classified as \"Other Suggest Routes\", and an example of a \"Bike Route\" would be the stretch of Gilman Drive between Meyers and Scholars where drivers need to share the road with cyclists because the bike lane has disappeared.  In these cases, the cyclist needs to ride on the same part of the road as the cars, so it's more likely that there will be collisions.\n",
    "- While less safe than Multi-use paths, Bike Lanes have a relatively low collision rate.  Bike Lanes are indeed safer than cycling off of the paths entirely.\n",
    "- Main takeaway: Cyclists are safest when there is a path or part of a path that is dedicated specifically for cycling, and much more collision-prone when they need to share a path with cars."
   ]
  },
  {
   "cell_type": "markdown",
   "metadata": {},
   "source": [
    "**In which parts of the city are you more likely to get into an accident with alcohol involved?**"
   ]
  },
  {
   "cell_type": "code",
   "execution_count": 121,
   "metadata": {},
   "outputs": [
    {
     "data": {
      "application/vnd.jupyter.widget-view+json": {
       "model_id": "09b7976867f341648f9a19375a513448",
       "version_major": 2,
       "version_minor": 0
      },
      "text/plain": [
       "MapView(layout=Layout(height='400px', width='100%'), zoom=12.0)"
      ]
     },
     "metadata": {},
     "output_type": "display_data"
    },
    {
     "data": {
      "text/html": [
       "<div class=\"map-static-img-preview-05e27bd9-4b5d-4e42-89eb-604e424c5700\"><img src=\"\"></img></div>"
      ],
      "text/plain": [
       "<IPython.core.display.HTML object>"
      ]
     },
     "metadata": {},
     "output_type": "display_data"
    }
   ],
   "source": [
    "# Let's create a heat map to get a feel for where alcohol-related accidents occur\n",
    "map6 = gis.map(\"San Diego\", zoomlevel=12)\n",
    "map6.add_layer(collisions_fl, {\"renderer\":\"HeatmapRenderer\", \"field_name\":'ALCOHOL_INVOLVED'})\n",
    "map6"
   ]
  },
  {
   "cell_type": "markdown",
   "metadata": {},
   "source": [
    "If we inspect the heat map carefully, we can see that these accidents occur predominently around famous attractions.\n",
    "\n",
    "For example, at the zoom level specified, we see four main clusters. The densist being at the coast of the San Diego Harbor. This is the location where many of San Diego's biggest events occur such as Padres games at Petco Park, Comic-Con at the San Diego Convention Center, and even the Gas Lamp District.\n",
    "\n",
    "We see the next cluster right around the North Park/Balboa Park Area. Through this area the San Diego Pride Festival happens every year. Also, this area is filled with housing and busy streets so we would expect a lot of bike use here and subsequently bike collisions.\n",
    "\n",
    "We see the next two clusters surround the Mission Bay/Pacific Beach area and Old Town. These areas are popular tourist destinations.\n",
    "\n",
    "Clearly we can see that alcohol related bike incidents occur in areas where people are likely to find amusement and consume alcohol in San Diego. This comes at no surprise!\n"
   ]
  },
  {
   "cell_type": "code",
   "execution_count": 24,
   "metadata": {},
   "outputs": [
    {
     "data": {
      "image/png": "[encoded data removed]",
      "text/plain": [
       "<Figure size 432x288 with 1 Axes>"
      ]
     },
     "metadata": {
      "needs_background": "light"
     },
     "output_type": "display_data"
    }
   ],
   "source": [
    "# Now we know the general areas of the collisions, lets figure out the zip codes!\n",
    "top_5 = (\n",
    "    collisions_sdf\n",
    "    .assign(ALCOHOL_INVOLVED=collisions_sdf.ALCOHOL_INVOLVED.replace({'':False,'Y':True}))\n",
    "    .groupby('ZIPCODE')['ALCOHOL_INVOLVED']\n",
    "    .sum().sort_values(ascending=False)\n",
    "    .iloc[:5]\n",
    ")\n",
    "top_5.plot(kind='bar', color='gray')\n",
    "\n",
    "plt.title('Top 5 Zip Codes with Alcohol-Related Incidents')\n",
    "plt.ylabel('Number of Alcohol-Related Incident');"
   ]
  },
  {
   "cell_type": "code",
   "execution_count": 123,
   "metadata": {},
   "outputs": [
    {
     "data": {
      "application/vnd.jupyter.widget-view+json": {
       "model_id": "e3e79193e3ef471caaece7522f4b76ff",
       "version_major": 2,
       "version_minor": 0
      },
      "text/plain": [
       "MapView(layout=Layout(height='400px', width='100%'), zoom=10.0)"
      ]
     },
     "metadata": {},
     "output_type": "display_data"
    },
    {
     "data": {
      "text/html": [
       "<div class=\"map-static-img-preview-abdc4327-a5db-434c-8c3d-928c5fd6d98c\"><img src=\"\"></img></div>"
      ],
      "text/plain": [
       "<IPython.core.display.HTML object>"
      ]
     },
     "metadata": {},
     "output_type": "display_data"
    }
   ],
   "source": [
    "# Lets plot these zip codes on a map!\n",
    "map7 = gis.map('San Diego', zoomlevel=10)\n",
    "\n",
    "zips = zip_codes.query().sdf\n",
    "zips = zips[zips['ZIP'].isin(top_5.index)]\n",
    "zips.spatial.plot(map_widget=map7)\n",
    "\n",
    "map7"
   ]
  },
  {
   "cell_type": "markdown",
   "metadata": {},
   "source": [
    "The top 5 zip codes make up over a third of all alcohol-related incidents! Based on what's above, the greatest number of incidents occur within the 92101 zip code, more than one tenth of all incidents in San Diego City occur here (there are 39 zipcodes in our dataset).  This is the zipcode which we previously believed to be the most dangerous based on the heat map.\n",
    "\n",
    "It appears that one is more likely to get into a bike-related accident in the 92109, 92101, 92154, 92104, and 92037 zip codes. Please note that we are making this conclusion based on the sheer number of incidents. We do not know how many bikers were going through the area so we are unable to calculate a rate for each zip code.\n",
    "\n",
    "However, just as before, perhaps we can get a better idea of the danger level in different zipcodes by enriching.\n",
    "\n",
    "If we enrich each zipcode to find the number of commuters that ride a bike to work, then we can control for this when counting collisions.\n",
    "\n",
    "Note that this isn't a perfect estimate for the number of cyclists that pass through each zipcode, because cyclists could be commuting from one zipcode to another zipcode (or not even commuting at all), however it will be interesting to see how/if our results change when we normalize using this estimate."
   ]
  },
  {
   "cell_type": "code",
   "execution_count": 25,
   "metadata": {},
   "outputs": [
    {
     "data": {
      "text/plain": [
       "92114.0    0.300000\n",
       "92108.0    0.285714\n",
       "92154.0    0.147541\n",
       "92111.0    0.142857\n",
       "92131.0    0.111111\n",
       "dtype: float64"
      ]
     },
     "execution_count": 25,
     "metadata": {},
     "output_type": "execute_result"
    }
   ],
   "source": [
    "# Just as before, let's enrich our zipcodes.\n",
    "commutes = pd.concat(map(\n",
    "    lambda studyrow: enrich(studyrow[1].to_frame().T, [\"Commute\"]),\n",
    "    zipstudies.iterrows()\n",
    "))\n",
    "\n",
    "# We can find the number of bicycle commuters in each zip as the ACSBICYCLE field.\n",
    "# And we can normalize the number of alcohol-related collisions in each zipcode by\n",
    "# that number of commuters.\n",
    "commutes = commutes.assign(AreaID = commutes.AreaID.astype(float))\n",
    "\n",
    "(\n",
    "    collisions_sdf\n",
    "    .assign(ALCOHOL_INVOLVED=collisions_sdf.ALCOHOL_INVOLVED.replace({'':False,'Y':True}))\n",
    "    .groupby('ZIPCODE')['ALCOHOL_INVOLVED'].sum()\n",
    "    / commutes.groupby(\"AreaID\").ACSBICYCLE.sum()\n",
    ").sort_values(ascending=False).loc[lambda ser: (ser > 0) & (ser < np.inf)].iloc[:5]"
   ]
  },
  {
   "cell_type": "markdown",
   "metadata": {},
   "source": [
    "This estimate is not a good idea after all. (Although zipcode 92154 does show up again...)\n",
    "\n",
    "For the reasons mentioned above—there are cyclists other than commuters and commuters don't remain in the same zipcode as they live—the rankings of the alcohol-related collision rates are determined almost entirely by the estimate for bicycle commuters.  All of the top 5 alcohol-related collision rates show above come from zipcodes with very few bicycle commuters.\n",
    "\n",
    "If we try normalizing the total number of collisions instead of just alcohol-related collisions, we find in many of the top 5 zipcodes there are actually more collisions than commuters!  So, although this attempt was fun, the estimate is not good enough to produce worthwhile insights."
   ]
  },
  {
   "cell_type": "code",
   "execution_count": 26,
   "metadata": {},
   "outputs": [
    {
     "data": {
      "text/plain": [
       "92114.0    2.200000\n",
       "92108.0    1.857143\n",
       "92154.0    1.196721\n",
       "92111.0    1.040816\n",
       "92110.0    0.820000\n",
       "dtype: float64"
      ]
     },
     "execution_count": 26,
     "metadata": {},
     "output_type": "execute_result"
    }
   ],
   "source": [
    "(\n",
    "    collisions_sdf\n",
    "    .groupby('ZIPCODE').CASE_ID.count()\n",
    "    / commutes.groupby(\"AreaID\").ACSBICYCLE.sum()\n",
    ").sort_values(ascending=False).loc[lambda ser: (ser > 0) & (ser < np.inf)].iloc[:5]"
   ]
  },
  {
   "cell_type": "markdown",
   "metadata": {},
   "source": [
    "### Creating a predictor for collision severity using collision features and victim features"
   ]
  },
  {
   "cell_type": "markdown",
   "metadata": {},
   "source": [
    "We want to train a model to predict collision severity, using fields that might be easily reported via an initial report of the collision.  This includes:\n",
    "- Route, Party Combination, Number of Victims, Min and Max Age of Victims, and (possibly, though in reality unlikely) Alcohol Involved and Bike Impaired"
   ]
  },
  {
   "cell_type": "code",
   "execution_count": 27,
   "metadata": {
    "scrolled": true
   },
   "outputs": [
    {
     "data": {
      "text/html": [
       "<div>\n",
       "<style scoped>\n",
       "    .dataframe tbody tr th:only-of-type {\n",
       "        vertical-align: middle;\n",
       "    }\n",
       "\n",
       "    .dataframe tbody tr th {\n",
       "        vertical-align: top;\n",
       "    }\n",
       "\n",
       "    .dataframe thead th {\n",
       "        text-align: right;\n",
       "    }\n",
       "</style>\n",
       "<table border=\"1\" class=\"dataframe\">\n",
       "  <thead>\n",
       "    <tr style=\"text-align: right;\">\n",
       "      <th></th>\n",
       "      <th>COLLISION_SEVERITY</th>\n",
       "      <th>ROUTE</th>\n",
       "      <th>PARTY_TYPE</th>\n",
       "      <th>ALCOHOL_INVOLVED</th>\n",
       "      <th>BIKE_IMPAIRED</th>\n",
       "      <th>NUM_VICTIMS</th>\n",
       "      <th>MIN_AGE</th>\n",
       "      <th>MAX_AGE</th>\n",
       "    </tr>\n",
       "    <tr>\n",
       "      <th>CASE_ID</th>\n",
       "      <th></th>\n",
       "      <th></th>\n",
       "      <th></th>\n",
       "      <th></th>\n",
       "      <th></th>\n",
       "      <th></th>\n",
       "      <th></th>\n",
       "      <th></th>\n",
       "    </tr>\n",
       "  </thead>\n",
       "  <tbody>\n",
       "    <tr>\n",
       "      <th>90581634</th>\n",
       "      <td>3</td>\n",
       "      <td>0.0</td>\n",
       "      <td>('Bicyclist',)</td>\n",
       "      <td>False</td>\n",
       "      <td>False</td>\n",
       "      <td>1</td>\n",
       "      <td>65</td>\n",
       "      <td>65</td>\n",
       "    </tr>\n",
       "    <tr>\n",
       "      <th>90410428</th>\n",
       "      <td>4</td>\n",
       "      <td>0.0</td>\n",
       "      <td>('Bicyclist', 'Driver')</td>\n",
       "      <td>False</td>\n",
       "      <td>False</td>\n",
       "      <td>1</td>\n",
       "      <td>49</td>\n",
       "      <td>49</td>\n",
       "    </tr>\n",
       "    <tr>\n",
       "      <th>90027314</th>\n",
       "      <td>3</td>\n",
       "      <td>0.0</td>\n",
       "      <td>('Bicyclist',)</td>\n",
       "      <td>False</td>\n",
       "      <td>False</td>\n",
       "      <td>1</td>\n",
       "      <td>53</td>\n",
       "      <td>53</td>\n",
       "    </tr>\n",
       "    <tr>\n",
       "      <th>90196205</th>\n",
       "      <td>4</td>\n",
       "      <td>2.0</td>\n",
       "      <td>('Bicyclist', 'Driver')</td>\n",
       "      <td>False</td>\n",
       "      <td>False</td>\n",
       "      <td>3</td>\n",
       "      <td>9</td>\n",
       "      <td>12</td>\n",
       "    </tr>\n",
       "    <tr>\n",
       "      <th>90124838</th>\n",
       "      <td>2</td>\n",
       "      <td>0.0</td>\n",
       "      <td>('Bicyclist', 'Driver')</td>\n",
       "      <td>True</td>\n",
       "      <td>False</td>\n",
       "      <td>1</td>\n",
       "      <td>28</td>\n",
       "      <td>28</td>\n",
       "    </tr>\n",
       "  </tbody>\n",
       "</table>\n",
       "</div>"
      ],
      "text/plain": [
       "          COLLISION_SEVERITY  ROUTE               PARTY_TYPE ALCOHOL_INVOLVED  \\\n",
       "CASE_ID                                                                         \n",
       "90581634                   3    0.0           ('Bicyclist',)            False   \n",
       "90410428                   4    0.0  ('Bicyclist', 'Driver')            False   \n",
       "90027314                   3    0.0           ('Bicyclist',)            False   \n",
       "90196205                   4    2.0  ('Bicyclist', 'Driver')            False   \n",
       "90124838                   2    0.0  ('Bicyclist', 'Driver')             True   \n",
       "\n",
       "         BIKE_IMPAIRED  NUM_VICTIMS  MIN_AGE  MAX_AGE  \n",
       "CASE_ID                                                \n",
       "90581634         False            1       65       65  \n",
       "90410428         False            1       49       49  \n",
       "90027314         False            1       53       53  \n",
       "90196205         False            3        9       12  \n",
       "90124838         False            1       28       28  "
      ]
     },
     "execution_count": 27,
     "metadata": {},
     "output_type": "execute_result"
    }
   ],
   "source": [
    "df = (\n",
    "    pd.merge(\n",
    "        collisions[[\"CASE_ID\"]], map_sdf[[\"CASE_ID\", \"COLLISION_SEVERITY\", \"ROUTE\", \"PARTY_TYPE\", \"ALCOHOL_INVOLVED\", \"BIKE_IMPAIRED\"]],\n",
    "        on=\"CASE_ID\", how=\"inner\"\n",
    "    )\n",
    "    # The only column with nulls so far is \"ROUTE\", which occurs when a collision was off-path.\n",
    "    .fillna(0.0)\n",
    "    # We need to get the number of victims and min/max age using the victim data grouped by case_id\n",
    "    .set_index(\"CASE_ID\")\n",
    "    .assign(\n",
    "        NUM_VICTIMS=victims.groupby(\"CASE_ID\").PARTY_NUMBER.size(),\n",
    "        MIN_AGE=victims.groupby(\"CASE_ID\").VICTIM_AGE.min(),\n",
    "        MAX_AGE=victims.groupby(\"CASE_ID\").VICTIM_AGE.max(),\n",
    "    )\n",
    ")\n",
    "\n",
    "df.head()"
   ]
  },
  {
   "cell_type": "code",
   "execution_count": 28,
   "metadata": {},
   "outputs": [],
   "source": [
    "from sklearn.pipeline import Pipeline\n",
    "from sklearn.preprocessing import OrdinalEncoder\n",
    "from sklearn.compose import ColumnTransformer\n",
    "from sklearn.ensemble import RandomForestClassifier\n",
    "from sklearn.model_selection import train_test_split"
   ]
  },
  {
   "cell_type": "code",
   "execution_count": 61,
   "metadata": {},
   "outputs": [
    {
     "data": {
      "text/plain": [
       "Pipeline(memory=None,\n",
       "     steps=[('pre', ColumnTransformer(n_jobs=None, remainder='passthrough', sparse_threshold=0.3,\n",
       "         transformer_weights=None,\n",
       "         transformers=[('party_type', OrdinalEncoder(categories=[array([\"('Bicyclist',)\", \"('Bicyclist', 'Driver')\",\n",
       "       \"('Bicyclist', 'Parked Vehicle')\", 'Other Combin...obs=None,\n",
       "            oob_score=False, random_state=None, verbose=0,\n",
       "            warm_start=False))])"
      ]
     },
     "execution_count": 61,
     "metadata": {},
     "output_type": "execute_result"
    }
   ],
   "source": [
    "X = df.drop(\"COLLISION_SEVERITY\", axis=1)\n",
    "y = df.COLLISION_SEVERITY\n",
    "\n",
    "X_train, X_test, y_train, y_test = train_test_split(X, y)\n",
    "\n",
    "pl = Pipeline([\n",
    "    (\"pre\", ColumnTransformer([\n",
    "        (\"party_type\", OrdinalEncoder(categories=[X.PARTY_TYPE.unique()]), [\"PARTY_TYPE\"]),\n",
    "        (\"boolean-string\", OrdinalEncoder(categories=[X.ALCOHOL_INVOLVED.unique(), X.BIKE_IMPAIRED.unique()]), [\"ALCOHOL_INVOLVED\", \"BIKE_IMPAIRED\"])\n",
    "    ], remainder=\"passthrough\")),\n",
    "    (\"clf\", RandomForestClassifier(100))\n",
    "])\n",
    "\n",
    "\n",
    "pl.fit(X_train, y_train)"
   ]
  },
  {
   "cell_type": "code",
   "execution_count": 62,
   "metadata": {},
   "outputs": [
    {
     "data": {
      "text/plain": [
       "0.5604166666666667"
      ]
     },
     "execution_count": 62,
     "metadata": {},
     "output_type": "execute_result"
    }
   ],
   "source": [
    "pl.score(X_test, y_test)"
   ]
  },
  {
   "cell_type": "markdown",
   "metadata": {},
   "source": [
    "At first, seeing an accuracy of ~56% seemed good since there are four labels that appear!  However, we then realized that the classifier would have performed better by just guessing '3' every time.  Comparing the predictions to the true values, we saw no evidence that the random forest was able to uncover what makes a very severe collision so severe, or a non-serious collision non-serious—our classifier was likely overwhelmed by the number of '3's in the dataset.\n",
    "\n",
    "Because the more severe collisions are so rare, we should likely use a regression model that is built to handle rare events.  We do not know of such models yet.  Additionally, when all is said and done joining our ~2700 victim rows to their collisions and making sure we have a location so that we can say whether or not the collision was on a path, we only have 1920 collisions to train on.  Perhaps we might see our predictions improve if we were to run this project on the larger dataset.  However, we noticed that in some cases there are two parties involved, but there is only data present for one of them, and in many cases there is no victim data available—this is a large reason for our small data size!"
   ]
  },
  {
   "cell_type": "code",
   "execution_count": null,
   "metadata": {},
   "outputs": [],
   "source": []
  }
 ],
 "metadata": {
  "celltoolbar": "Edit Metadata",
  "kernelspec": {
   "display_name": "Python 3",
   "language": "python",
   "name": "python3"
  },
  "language_info": {
   "codemirror_mode": {
    "name": "ipython",
    "version": 3
   },
   "file_extension": ".py",
   "mimetype": "text/x-python",
   "name": "python",
   "nbconvert_exporter": "python",
   "pygments_lexer": "ipython3",
   "version": "3.7.1"
  }
 },
 "nbformat": 4,
 "nbformat_minor": 2
}
