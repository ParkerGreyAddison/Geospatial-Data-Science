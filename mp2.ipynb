{
 "cells": [
  {
   "cell_type": "markdown",
   "metadata": {},
   "source": [
    "\n",
    "# Mini Project 2\n",
    "## Advanced Geopandas: spatial join and geoprocessing\n",
    "\n",
    "**Names:** Enrique Sanchez, Parker Addison"
   ]
  },
  {
   "cell_type": "markdown",
   "metadata": {},
   "source": [
    "We will be exploring several common geospatial computations in this mini project.  Our goal is to practice different requests against a single layer, and then to join several layers using real data.  In this project we will demonstrate geopandas mastery and also gain experience discovering datasets and critically evaluating metadata.\n",
    "\n",
    "Find multiple datasets, and for each one explore its metadata.  In addition, provide a brief description of the dataset including the data-integrity characteristics we explored in class, as well as any data quality considerations—especially those which may impact geometric processing.\n",
    "\n",
    "In this project there is one warm-up problem, and one large, real-world problem that the City of San Diego is actively trying to address.  The best creative and rigorous solutions to this larger problem will be asked to demonstrate to the ScaleSD folks who are visiting to give an invited talk about smart cities."
   ]
  },
  {
   "cell_type": "code",
   "execution_count": 1,
   "metadata": {},
   "outputs": [],
   "source": [
    "%matplotlib inline \n",
    "import geopandas as gpd\n",
    "import pandas as pd\n",
    "\n",
    "# add packages as needed\n",
    "import shapely\n",
    "import numpy as np\n",
    "import matplotlib.pyplot as plt\n",
    "import matplotlib.patches as mpatches\n",
    "import matplotlib.lines as mlines"
   ]
  },
  {
   "cell_type": "markdown",
   "metadata": {},
   "source": [
    "---\n",
    "\n",
    "## Part I.\n",
    "\n",
    "Using an administrative boundaries map of California, find San Diego county and return its CRS, polygon coordinates, area (use sq. miles), bounding box (use latitude and logitude), and a list of neighboring counties.\n",
    "\n",
    "To be more general, create a function to return the above geometric characteristics and a list of neighbors of any chosen polygon in a given input dataframe.  The chosen polygon will have a given `name` which exists in a given `name_field` in the dataframe."
   ]
  },
  {
   "cell_type": "markdown",
   "metadata": {},
   "source": [
    "### Part I Dataset Description\n",
    "\n",
    "**Title:** CA Geographic Boundaries\n",
    "\n",
    "**URL:** https://data.ca.gov/dataset/ca-geographic-boundaries\n",
    "\n",
    "**Number of records:** 58\n",
    "\n",
    "**CRS:** EPSG: 3857\n",
    "\n",
    "**Description:**\n",
    "This data set contains the shapefile boundaries (EPSG:3857) for all 58 counties in California. It comes from the US Census Bureau's MAF/TIGER database and reflects the governmental units in California as of January 1, 2016. The data set was first released on February 2, 2017 and most recently modified on February 27, 2019. "
   ]
  },
  {
   "cell_type": "code",
   "execution_count": 2,
   "metadata": {},
   "outputs": [],
   "source": [
    "### YOUR CODE HERE ###\n",
    "\n",
    "def poly_info(input_gdf, name_field, name):\n",
    "    \n",
    "    sqfeet_to_sqmiles = 1 / 27878400\n",
    "    \n",
    "    # Note that it's likely only one entry will exist for a given name, but to\n",
    "    # be safe we should dissolve first.\n",
    "    gdf = input_gdf.dissolve(name_field).reset_index().copy()\n",
    "    \n",
    "    # Retrieving desired polygon\n",
    "    poly = gdf[gdf[name_field] == name].reset_index(drop=True)\n",
    "    \n",
    "    # Getting coordinate reference system\n",
    "    crs = poly.crs\n",
    "    \n",
    "    # Getting polygon coordinates\n",
    "    poly_coords = poly['geometry'].iloc[0]\n",
    "    \n",
    "    # Calculating area, ensuring epsg 2230 for accuracy\n",
    "    area = poly.to_crs({'init': 'epsg:2230'}).area.iloc[0] * sqfeet_to_sqmiles\n",
    "    \n",
    "    # Getting coordinates for bounding box\n",
    "    bounding_box = poly.to_crs({'init': 'epsg:4326'}).bounds\n",
    "    \n",
    "    # Getting neighbors of the polygon\n",
    "    neighbors_df = gdf[gdf.touches(poly_coords)]\n",
    "    neighbors = list(neighbors_df[name_field])\n",
    "    \n",
    "\n",
    "    return crs, poly_coords, area, bounding_box, neighbors"
   ]
  },
  {
   "cell_type": "code",
   "execution_count": 3,
   "metadata": {},
   "outputs": [],
   "source": [
    "# Running the function with our real dataset.\n",
    "\n",
    "input_gdf = gpd.read_file('Counties/CA_Counties_TIGER2016.shp')\n",
    "name_field = 'NAMELSAD'\n",
    "name = 'San Diego County'\n",
    "\n",
    "crs,poly_coords,area,bbox,neighbors = poly_info(input_gdf, name_field, name)"
   ]
  },
  {
   "cell_type": "code",
   "execution_count": 4,
   "metadata": {},
   "outputs": [
    {
     "name": "stdout",
     "output_type": "stream",
     "text": [
      "{'init': 'epsg:3857'}\n",
      "<shapely.geometry.polygon.Polygon object at 0x7f085d8e4c50>\n",
      "4525.420823895433\n",
      "         minx       miny        maxx      maxy\n",
      "0 -117.611093  32.528837 -116.080952  33.50503\n",
      "['Imperial County', 'Orange County', 'Riverside County']\n"
     ]
    }
   ],
   "source": [
    "print(crs)\n",
    "print(repr(poly_coords))\n",
    "print(area)\n",
    "print(bbox)\n",
    "print(neighbors)"
   ]
  },
  {
   "cell_type": "markdown",
   "metadata": {},
   "source": [
    "---\n",
    "## Part II.\n",
    "\n",
    "In low and medium income neighborhoods (LMI), food choices are often limited, as these areas may lack healthy food stores or fresh food delivery mechanisms.  Or perhaps there are more fast food options than fresh produce stores.  Where the population is relatively poor, healthy food options isn't been an overwhelming priority for many households.  These areas are referred to as \"food deserts\".\n",
    "\n",
    "See these articles:\n",
    "* https://www.sandiegouniontribune.com/news/data-watch/sdut-san-diego-food-deserts-2016may15-htmlstory.html (see food desert definitions here)\n",
    "* https://www.npr.org/sections/thesalt/2013/03/13/174112591/how-to-find-a-food-desert-near-you\n",
    "* https://www.geospatial.institute/wp-content/uploads/2018/03/Mapping-Food-Desserts-in-Southern-California-Counties.pdf \n",
    "* https://www.sandiegoreader.com/news/2018/sep/04/stringers-imperial-beach-food-desert/# (a recent one, about IB)\n",
    "* https://www.kpbs.org/news/2018/mar/29/sdsu-students-take-food-deserts-national-city/\n",
    "* http://newscenter.sdsu.edu/sdsu_newscenter/news_story.aspx?sid=74890 \n",
    "* https://grist.org/food/americas-worst-food-deserts-map-lovers-edition/\n",
    "* https://ucsdcommunityhealth.org/news/promoting-produce-consumption/\n",
    "\n",
    "There was also a Master's thesis at UCSD: https://escholarship.org/uc/item/0s78j9g2\n",
    "\n",
    "Don't read them all, just skim to understand the issues and get ideas.\n",
    "\n",
    "We'll analyze the current business state of food deserts by looking at lists of businesses in San Diego as well as by using demographic census-tract data from SanDAG.\n",
    "\n",
    "We will use the City of San Diego tax certificates for our list of businesses.  This dataset is current and includes location, as well as detailed NAICS codes for each business.  We want to look at only active certificates, and we want to determine which types of businesses are relevant to healthy and unhealthy food options.  We have provided a list of healthy and unhealthy NAICS as part of the assignment.  You may use this or modify it if you wish.\n",
    "\n",
    "We will also use relevant spatial data layers from SanDAG.  Namely the Promise Zone and Census Tract boundaries.  Descriptions of promise zones can be found at the following links:\n",
    "* https://www.hud.gov/sites/documents/SAN-DIEGO_ZONE_3RD.PDF\n",
    "* https://www.sandiego.gov/economic-development/sdpromisezone/maps\n",
    "* https://www.sandiego.gov/economic-development/sdpromisezone\n",
    "\n",
    "Social-demographic data by census tract can likewise be downloaded from SanDAG.\n",
    "\n",
    "**Your tasks:**\n",
    "\n",
    "1. Download all relevant data reading them into geopandas dataframes and merging social-demographic information as necessary.\n",
    "\n",
    "2. Determine which businesses provide food options, and which should be considered healthy/unhealthy.  Justify your choices if you deviate from the list we provide.\n",
    "\n",
    "3. Determine which census tracts intersect with the Promise Zone, and which of the remaining tracts are within the boundary of the City of San Diego.\n",
    "\n",
    "4. For Promise Zone tracts, as well as other tracts within city limits, calculate the number of healthy and unhealthy food options within the tract.\n",
    "\n",
    "5. Compute the ratio of healthy to unhealthy options, and build a regression model to showcase possible dependence on social-demographic characteristics of the tract. Start with linear regression. Provide a brief description of regression results.\n",
    "\n",
    "6. Create a map displaying the above ratio in each census tract, and displaying the locations of healthy food options.\n",
    "\n",
    "We won't provide a skeleton for this problem. This is a much more open project than before. \n"
   ]
  },
  {
   "cell_type": "markdown",
   "metadata": {},
   "source": [
    "### Part 2 Dataset Descriptions\n",
    "\n",
    "---\n",
    "\n",
    "**Title:** Business Tax Certificates\n",
    "\n",
    "**URL:** https://data.sandiego.gov/datasets/business-listings/\n",
    "\n",
    "**Number of records:** 39978\n",
    "\n",
    "**CRS:** N/A\n",
    "\n",
    "**Description:** This data set includes all active businesses since 2008 in San Diego. It is maintained by the City of San Diego and has been frequently updated (last modified on April 18, 2019 although we are unsure of the version provided to us in this mini project).\n",
    "\n",
    "---\n",
    "\n",
    "**Title:** Promise Zone SD\n",
    "\n",
    "**URL:** http://rdw.sandag.org/Account/gisdtview?dir=Business\n",
    "\n",
    "**Number of records:** 1\n",
    "\n",
    "**CRS:** ESPG 2230\n",
    "\n",
    "**Description:** This data set contains the shapefiles for the San Diego Promise Zone and is current as of June of 2016. According to the metadata, the information is within a 5% range of accuracy and is provided for general information purposes only.\n",
    "\n",
    "---\n",
    "\n",
    "**Title:** Census Tracts 2010\n",
    "\n",
    "**URL:** http://rdw.sandag.org/Account/gisdtview?dir=Census\n",
    "\n",
    "**Number of records:** 627\n",
    "\n",
    "**CRS:** ESPG 2230\n",
    "\n",
    "**Description:** This data set contains the shapefiles for the 2010 census tracts for San Diego County. As can be expected, this data was collected for the purpose of the US census. The metadata suggests that the the positional accuracy of each tract (polygon) may not exactly match their exact locations.\n",
    "\n",
    "---\n",
    "\n",
    "**Title:** San Diego City Boundary\n",
    "\n",
    "**URL:** https://data.sandiego.gov/datasets/san-diego-boundary/\n",
    "\n",
    "**Number of records:** 70\n",
    "\n",
    "**CRS:** ESPG 2230\n",
    "\n",
    "**Description:** This data set contains the shapefiles for City of San Diego administrative boundary. It is maintained by SanGIS and has last been modified on April 9, 2019. The data is updated when notified by LAFCO about a new annexation or detachment in order to ensure the accuracy of the data set.\n",
    "\n",
    "---\n",
    "\n",
    "**Title:** Deomgrographic & Socio Economic Estimates\n",
    "\n",
    "**URL:** http://datasurfer.sandag.org/\n",
    "\n",
    "**Number of records:** 43890\n",
    "\n",
    "**CRS:** N/A\n",
    "\n",
    "**Description:** This data set by SANDAG contains demographic and socio economic estimates for households in San Diego based on the 2010 census. It is noted by SANDAG that the census did not include information about structure type or household income. Therefore, they acquired this information from other sources such as the County of San Diego. It is also noted that minor adjustments were made to more accurately reflect the population and housing distribution.\n",
    "\n",
    "---"
   ]
  },
  {
   "cell_type": "code",
   "execution_count": 5,
   "metadata": {},
   "outputs": [],
   "source": [
    "### YOUR CODE HERE ###"
   ]
  },
  {
   "cell_type": "markdown",
   "metadata": {},
   "source": [
    "1. Download the data - promise zone, census tracts, jurisdictions (census tracts social-demographic data and businesses data are provided but you can download as well if you wish), read them into geopandas dataframes, and merge social-demographic data with tract boundaries as needed."
   ]
  },
  {
   "cell_type": "code",
   "execution_count": 13,
   "metadata": {},
   "outputs": [],
   "source": [
    "tracts = gpd.read_file(\"Census_Tracts/CENSUS_TRACTS_2010.shp\")\n",
    "# We noticed some rows that were exact duplicates of one another.  This could mess with our counts of healthy\n",
    "# and unhealthy food options, so let's keep just the first to be safe!\n",
    "#\n",
    "# For an example of duplicated rows, look at businesses where dba_name == \"ZANZIBAR CAFE III INC\".\n",
    "# This particular food option is located outside of San Diego City, so it wouldn't affect our final\n",
    "# analysis, but it doesn't hurt to be safe!\n",
    "businesses = pd.read_csv(\"sd_businesses_active_since08_datasd.csv\").drop_duplicates()\n",
    "socio = pd.read_excel(\"socio-demographic.xlsx\")\n",
    "\n",
    "sandiego = gpd.read_file(\"SanDiego/san_diego_boundary_datasd.shp\")\n",
    "promise = gpd.read_file(\"Promise_Zones/Promise_Zone_SD.shp\")\n",
    "\n",
    "# The socio-demographic data and the census tracts data have identical \"TRACT\" columns.\n",
    "#\n",
    "# The dataframe resulting from their merge should be converted into a GeoDataFrame in\n",
    "# order to utilize geopandas in future steps.\n",
    "#\n",
    "# By calling merge from the gdf, we preserve the crs.\n",
    "socio_geo = tracts.merge(socio, how=\"right\", on=\"TRACT\")"
   ]
  },
  {
   "cell_type": "markdown",
   "metadata": {},
   "source": [
    "2. Subset the businesses (figure out, from NAICS descriptions, which businesses are likely to provide healthy food options, and which unhealthy. You can use our suggestions above but also feel free to deviate from them as long as you justify your choices.)"
   ]
  },
  {
   "cell_type": "code",
   "execution_count": 14,
   "metadata": {},
   "outputs": [],
   "source": [
    "#! NOTE: We considered moving 'FULL-SERVICE RESTAURANTS' to the list of healthy NAICS, but ultimately\n",
    "#  decided against this decision when we found that places like McDonalds and Burger King were listed\n",
    "#  as full-service.\n",
    "#\n",
    "#  In a perfect world, we would have the time to create an additional classifier for full service\n",
    "#  restaurants to further distinguish between healthy and unhealthy restaurants.\n",
    "healthy_naics = [\"FOOD (HEALTH) SUPPLEMENT STORES\", \"GROCERY STORES\", \"GROCERY (EXCEPT CONVENIENCE) STORES\"]\n",
    "\n",
    "unhealthy_naics = [\"FOOD SERVICES & DRINKING PLACES\", \"LIMITED-SERVICE EATING PLACES\", \"FULL-SERVICE RESTAURANTS\",\n",
    "             \"LIMITED-SERVICE RESTAURANTS\", \"BEER, WINE & LIQUOR STORES\", \"TOBACCO STORES\", \"CONVENIENCE STORES\"]\n",
    "\n",
    "def add_points_from_lat_lon(df):\n",
    "    \"\"\"\n",
    "    Takes a pandas dataframe which has a 'latitude' and 'longitude' column and returns a GeoDataFrame with\n",
    "    the geometry column containing the corresponding Shapely Points.\n",
    "    \"\"\"\n",
    "    \n",
    "    points = df.apply(lambda row: shapely.geometry.Point(row.longitude, row.latitude), axis=1)\n",
    "    \n",
    "    # This will be in EPSG:4326 since we're using lon-lat points.\n",
    "    return gpd.GeoDataFrame(df, geometry=points, crs={\"init\": \"epsg:4326\"})\n",
    "\n",
    "healthy_businesses = add_points_from_lat_lon(\n",
    "    businesses[businesses.naics_description.isin(healthy_naics)]\n",
    ")\n",
    "unhealthy_businesses = add_points_from_lat_lon(\n",
    "    businesses[businesses.naics_description.isin(unhealthy_naics)]\n",
    ")"
   ]
  },
  {
   "cell_type": "markdown",
   "metadata": {},
   "source": [
    "3. Determine census tracts intersecting with the promise zone, and all other census tracts within the boundary of San Diego."
   ]
  },
  {
   "cell_type": "code",
   "execution_count": 15,
   "metadata": {},
   "outputs": [
    {
     "name": "stdout",
     "output_type": "stream",
     "text": [
      "Tracts *intersecting* with Promise Zone:\n",
      " [ 33.01  33.03  33.04  33.05  30.01  30.03  30.04  31.01  31.03  31.11\n",
      "  31.12  31.13  34.03  34.04  35.01  35.02  36.01  36.02  36.03  38.\n",
      "  39.01  39.02  40.    41.    46.    47.    48.    49.    50.    51.\n",
      "  52.    54.   118.02 119.02  99.02]\n",
      "Tracts *within* San Diego City boundaries:\n",
      " [ 15.    16.    17.    18.    19.    20.01  20.02  21.    22.01  22.02\n",
      "  23.01  23.02  24.01  24.02  25.01  25.02  26.01  26.02  27.02   1.\n",
      "   2.01   2.02   3.     4.     5.     6.     7.     8.     9.    10.\n",
      "  11.    12.    13.    14.    32.11  34.01  27.05  27.07  27.08  27.09\n",
      "  27.1   27.11  28.01  28.03  28.04  29.03  29.04  31.05  31.14  31.15\n",
      "  66.    68.01  68.02  69.    70.02  71.    73.02  74.    75.01  77.01\n",
      "  77.02  78.    79.03  42.    43.    44.    45.01  53.    55.    56.\n",
      "  57.    58.    59.    60.    61.    62.    63.    65.    83.29  83.3\n",
      "  83.31  83.33  83.35  83.36  83.37  83.4   83.41  83.43  83.44  79.07\n",
      "  79.08  80.02  83.01  83.03  83.05  83.06  83.07  83.1   83.11  83.13\n",
      "  83.27  85.03  85.04  85.05  85.06  85.07  85.09  85.1   85.11  85.12\n",
      "  85.13  83.45  83.46  83.47  83.48  83.49  83.5   83.51  83.52  83.53\n",
      "  83.54  83.55  83.56  83.57  83.58  83.59  83.61  83.62  83.63  83.64\n",
      "  83.65  83.66  85.01  85.02  95.02  95.06  95.07  95.09  95.1   95.11\n",
      "  96.02  96.03  96.04  97.03  97.04  97.05  86.    87.01  87.02  88.\n",
      "  89.01  89.02  90.    91.01  91.02  91.03  91.04  91.06  91.07  92.01\n",
      "  92.02  93.01  93.04  93.05  93.06 100.03 100.04 100.05 100.1  100.11\n",
      " 100.12 100.13 101.06 101.1  101.11 101.12 170.46 170.47 170.52 170.15\n",
      " 170.18 170.31 170.34 170.35 170.36 170.37 170.43 170.56 214.  ]\n"
     ]
    }
   ],
   "source": [
    "# Fortunately, `tracts`, `promise` and `sandiego` are all in EPSG:2230 already!\n",
    "#\n",
    "# QUESTION: Would geopandas take care of the conversion if two different crs's\n",
    "# were used?\n",
    "#\n",
    "# ANSWER: No.\n",
    "# ```\n",
    "# >>> gpd.sjoin(tracts, promise.to_crs(epsg=4326), how=\"left\", op=\"intersects\")\n",
    "# UserWarning: CRS of frames being joined does not match!\n",
    "# ```\n",
    "\n",
    "promise_tracts = gpd.sjoin(tracts, promise, how=\"inner\", op=\"intersects\")\n",
    "\n",
    "# Note that the boundaries for San Diego City have objectid 40.  We're interested in\n",
    "# \"other census tracts within the boundary of San Diego\", so we use \"within\" as the operation.\n",
    "sd_city_tracts = gpd.sjoin(tracts, sandiego[sandiego.objectid==40], how=\"inner\", op=\"within\")\n",
    "\n",
    "# We want to compare the Promise Zone to the rest of the city's tracts, not to themselves!\n",
    "#\n",
    "#! NOTE: Errors are being ignored because there are some tracts that *intersect* with the promise zone,\n",
    "#  but are not *within* San Diego City, so attempting to drop those indices causes the error.\n",
    "sd_city_tracts_not_promise = sd_city_tracts.drop(index=promise_tracts.index, axis=0, errors=\"ignore\")\n",
    "\n",
    "# If we want just the tract numbers, we can just access the TRACT column of `promise_tracts`\n",
    "# and `sd_city_tracts_not_promise`\n",
    "print(\"Tracts *intersecting* with Promise Zone:\\n\", promise_tracts.TRACT.values)\n",
    "print(\"Tracts *within* San Diego City boundaries:\\n\", sd_city_tracts_not_promise.TRACT.values)"
   ]
  },
  {
   "cell_type": "markdown",
   "metadata": {},
   "source": [
    "4. For each census tract marked as belonging to the promise zone, and the other tracts within the city limits, calculate the number of healthy and not-healthy options within that tract."
   ]
  },
  {
   "cell_type": "code",
   "execution_count": 16,
   "metadata": {},
   "outputs": [],
   "source": [
    "# Start by turning all of the lon-lat points into the same crs as our other geometries. (May take a while)\n",
    "healthy_businesses_2230 = healthy_businesses.to_crs({\"init\": \"epsg:2230\"})\n",
    "unhealthy_businesses_2230 = unhealthy_businesses.to_crs({\"init\": \"epsg:2230\"})"
   ]
  },
  {
   "cell_type": "code",
   "execution_count": 116,
   "metadata": {},
   "outputs": [],
   "source": [
    "# Let's find out which tracts our healthy and unhealthy food businesses are in.\n",
    "healthy_businesses_tracts = (\n",
    "    gpd.sjoin(healthy_businesses_2230, tracts[[\"TRACT\", \"geometry\"]], how=\"inner\", op=\"within\").TRACT\n",
    ")\n",
    "\n",
    "unhealthy_businesses_tracts = (\n",
    "    gpd.sjoin(unhealthy_businesses_2230, tracts[[\"TRACT\", \"geometry\"]], how=\"inner\", op=\"within\").TRACT\n",
    ")\n",
    "\n",
    "# We want to return two dataframes, indexed by tract, which contains columns counting the number\n",
    "# of healthy and unhealthy businesses within that tract, respectively.\n",
    "\n",
    "# Note that the value counts of `healthy(unhealthy)_business_tracts` gives the number of healthy(unhealthy)\n",
    "# businesses per tract (tract is the index).\n",
    "promise_health_counts = promise_tracts.TRACT.to_frame().set_index(\"TRACT\").assign(\n",
    "    healthy_count=healthy_businesses_tracts.value_counts(),\n",
    "    unhealthy_count=unhealthy_businesses_tracts.value_counts()\n",
    ")\n",
    "\n",
    "other_health_counts = sd_city_tracts_not_promise.TRACT.to_frame().set_index(\"TRACT\").assign(\n",
    "    healthy_count=healthy_businesses_tracts.value_counts(),\n",
    "    unhealthy_count=unhealthy_businesses_tracts.value_counts()\n",
    ")"
   ]
  },
  {
   "cell_type": "code",
   "execution_count": 117,
   "metadata": {},
   "outputs": [
    {
     "data": {
      "text/html": [
       "<div>\n",
       "<style scoped>\n",
       "    .dataframe tbody tr th:only-of-type {\n",
       "        vertical-align: middle;\n",
       "    }\n",
       "\n",
       "    .dataframe tbody tr th {\n",
       "        vertical-align: top;\n",
       "    }\n",
       "\n",
       "    .dataframe thead th {\n",
       "        text-align: right;\n",
       "    }\n",
       "</style>\n",
       "<table border=\"1\" class=\"dataframe\">\n",
       "  <thead>\n",
       "    <tr style=\"text-align: right;\">\n",
       "      <th></th>\n",
       "      <th>healthy_count</th>\n",
       "      <th>unhealthy_count</th>\n",
       "    </tr>\n",
       "    <tr>\n",
       "      <th>TRACT</th>\n",
       "      <th></th>\n",
       "      <th></th>\n",
       "    </tr>\n",
       "  </thead>\n",
       "  <tbody>\n",
       "    <tr>\n",
       "      <th>33.01</th>\n",
       "      <td>NaN</td>\n",
       "      <td>3.0</td>\n",
       "    </tr>\n",
       "    <tr>\n",
       "      <th>33.03</th>\n",
       "      <td>NaN</td>\n",
       "      <td>1.0</td>\n",
       "    </tr>\n",
       "    <tr>\n",
       "      <th>33.04</th>\n",
       "      <td>1.0</td>\n",
       "      <td>4.0</td>\n",
       "    </tr>\n",
       "    <tr>\n",
       "      <th>33.05</th>\n",
       "      <td>1.0</td>\n",
       "      <td>2.0</td>\n",
       "    </tr>\n",
       "    <tr>\n",
       "      <th>30.01</th>\n",
       "      <td>NaN</td>\n",
       "      <td>NaN</td>\n",
       "    </tr>\n",
       "  </tbody>\n",
       "</table>\n",
       "</div>"
      ],
      "text/plain": [
       "       healthy_count  unhealthy_count\n",
       "TRACT                                \n",
       "33.01            NaN              3.0\n",
       "33.03            NaN              1.0\n",
       "33.04            1.0              4.0\n",
       "33.05            1.0              2.0\n",
       "30.01            NaN              NaN"
      ]
     },
     "metadata": {},
     "output_type": "display_data"
    },
    {
     "name": "stdout",
     "output_type": "stream",
     "text": [
      "healthy_count      13\n",
      "unhealthy_count    25\n",
      "dtype: int64\n",
      "healthy_count       54\n",
      "unhealthy_count    139\n",
      "dtype: int64\n"
     ]
    }
   ],
   "source": [
    "display(promise_health_counts.head())\n",
    "print(promise_health_counts.count())\n",
    "print(other_health_counts.count())"
   ]
  },
  {
   "cell_type": "code",
   "execution_count": 118,
   "metadata": {},
   "outputs": [],
   "source": [
    "# Finally we can merge these counts back with our tracts data.\n",
    "promise_tracts_health = promise_tracts.merge(promise_health_counts, on=\"TRACT\")\n",
    "other_tracts_health = sd_city_tracts_not_promise.merge(other_health_counts, on=\"TRACT\")"
   ]
  },
  {
   "cell_type": "markdown",
   "metadata": {},
   "source": [
    "5. Compute the ratio of healthy and non-healthy options, and build a regression model showing how it depends on social-demographic characteristics, such as median income or number of people in lowest and highest income brackets. You may use sklearn on this dataframe by tracts to compute a linear regresson. Provide a brief description of regression results."
   ]
  },
  {
   "cell_type": "code",
   "execution_count": 132,
   "metadata": {},
   "outputs": [],
   "source": [
    "# We want:\n",
    "#\n",
    "# healthy | unhealthy\n",
    "# --------|----------\n",
    "#       i |      NaN   --> Max ratio\n",
    "#     NaN |        i   --> Zero\n",
    "#     NaN |      NaN   --> NaN (will be dropped)\n",
    "\n",
    "# There are some concerns that arise with this:\n",
    "# e.g. should a single healthy option without any unhealthy options truly warrant the maximum ratio?\n",
    "#\n",
    "# However, for the purpose of utilizing as much data as possible, it makes sense that we should find\n",
    "# a way to compute ratios where one of the counts is zero (NaN) as opposed to completely ignoring the\n",
    "# row!\n",
    "\n",
    "def compute_ratios(counts_df):\n",
    "    \"\"\"\n",
    "    Takes as input the healthy and unhealthy counts columns as a dataframe.\n",
    "    Returns the ratio of healthy/unhealthy with the additional conditions:\n",
    "    - non-null healthy counts divided by null unhealthy counts will return the maximum of all other\n",
    "      calculated ratios\n",
    "    - null healthy counts divided by non-null unhealthy counts will return a ratio of zero\n",
    "    \"\"\"\n",
    "    \n",
    "    normal_ratios = counts_df.healthy_count / counts_df.unhealthy_count\n",
    "    max_ratio = normal_ratios.max()\n",
    "    \n",
    "    def compute(row):\n",
    "        if pd.isnull(row.healthy_count) and pd.isnull(row.unhealthy_count):\n",
    "            return np.NaN\n",
    "        elif pd.notnull(row.healthy_count) and pd.isnull(row.unhealthy_count):\n",
    "            \n",
    "            #! IMPORTANT: THIS MAY COMMENTED OUT TO RETURN MAX OR RETURN NAN.\n",
    "            return max_ratio\n",
    "            # return np.NaN\n",
    "            \n",
    "        elif pd.isnull(row.healthy_count) and pd.notnull(row.unhealthy_count):\n",
    "            return 0\n",
    "        else:\n",
    "            return row.healthy_count / row.unhealthy_count\n",
    "    \n",
    "    return counts_df.apply(compute, axis=1)\n",
    "\n",
    "    \n",
    "promise_tracts_health[\"ratio\"] = compute_ratios(promise_tracts_health[[\"healthy_count\", \"unhealthy_count\"]])\n",
    "other_tracts_health[\"ratio\"] = compute_ratios(other_tracts_health[[\"healthy_count\", \"unhealthy_count\"]])"
   ]
  },
  {
   "cell_type": "code",
   "execution_count": 133,
   "metadata": {},
   "outputs": [
    {
     "name": "stdout",
     "output_type": "stream",
     "text": [
      "Number of ratios for promise zone tracts: 26\n",
      "Number of ratios outside promise zone but within SD city: 144\n"
     ]
    }
   ],
   "source": [
    "print(\"Number of ratios for promise zone tracts: %d\" % promise_tracts_health.ratio.count())\n",
    "print(\"Number of ratios outside promise zone but within SD city: %d\" % other_tracts_health.ratio.count())"
   ]
  },
  {
   "cell_type": "code",
   "execution_count": 134,
   "metadata": {},
   "outputs": [
    {
     "name": "stdout",
     "output_type": "stream",
     "text": [
      "Average ratio for promise zone tracts: 0.233814\n",
      "Average ratio outside promise zone but within SD city: 0.176882\n"
     ]
    }
   ],
   "source": [
    "print(\"Average ratio for promise zone tracts: %f\" % promise_tracts_health.ratio.mean())\n",
    "print(\"Average ratio outside promise zone but within SD city: %f\" % other_tracts_health.ratio.mean())"
   ]
  },
  {
   "cell_type": "code",
   "execution_count": 263,
   "metadata": {},
   "outputs": [],
   "source": [
    "# We're going to want to compare the ratio for a tract with various information about its income levels.\n",
    "\n",
    "# Before to can do this, we should cut down on the size of our socio_geo df by only looking at the most\n",
    "# recently reported statistics.\n",
    "socio_recent = socio_geo[socio_geo.YEAR == socio_geo.YEAR.max()]\n",
    "\n",
    "# Let's develop a couple functions to take this data (10 income bins and their corresponding counts)\n",
    "# and extract a single object of useful information.\n",
    "def extract_median_bin(df):\n",
    "    \"\"\"\n",
    "    Takes in a dataframe with INCOME GROUP and HOUSEHOLDS (a count for each bin) and returns the median\n",
    "    income group.\n",
    "    \"\"\"\n",
    "    \n",
    "    total_households = df.HOUSEHOLDS.sum()\n",
    "    \n",
    "    median_household_number = total_households / 2\n",
    "    \n",
    "    median_group = df.loc[df.HOUSEHOLDS.cumsum() >= median_household_number, \"INCOME GROUP\"].iloc[0]\n",
    "    \n",
    "    return median_group\n",
    "\n",
    "# The total number of households might be nice to look at.\n",
    "def total_households(df):\n",
    "    \"\"\"\n",
    "    Takes in a dataframe containing information for a single tract and returns the total number of \n",
    "    households within that tract.\n",
    "    \"\"\"\n",
    "    return df['HOUSEHOLDS'].sum()"
   ]
  },
  {
   "cell_type": "code",
   "execution_count": 290,
   "metadata": {},
   "outputs": [],
   "source": [
    "# We can also return every piece of info as a series, so that we can add them as rows.\n",
    "def info_to_series(tract):\n",
    "\n",
    "    return tract[[\"INCOME GROUP\", \"HOUSEHOLDS\"]].set_index(\"INCOME GROUP\").HOUSEHOLDS"
   ]
  },
  {
   "cell_type": "code",
   "execution_count": 136,
   "metadata": {},
   "outputs": [
    {
     "data": {
      "text/html": [
       "<div>\n",
       "<style scoped>\n",
       "    .dataframe tbody tr th:only-of-type {\n",
       "        vertical-align: middle;\n",
       "    }\n",
       "\n",
       "    .dataframe tbody tr th {\n",
       "        vertical-align: top;\n",
       "    }\n",
       "\n",
       "    .dataframe thead th {\n",
       "        text-align: right;\n",
       "    }\n",
       "</style>\n",
       "<table border=\"1\" class=\"dataframe\">\n",
       "  <thead>\n",
       "    <tr style=\"text-align: right;\">\n",
       "      <th></th>\n",
       "      <th>TRACT</th>\n",
       "      <th>SHAPE_AREA</th>\n",
       "      <th>SHAPE_LEN</th>\n",
       "      <th>geometry</th>\n",
       "      <th>YEAR</th>\n",
       "      <th>ORDINAL</th>\n",
       "      <th>INCOME GROUP</th>\n",
       "      <th>HOUSEHOLDS</th>\n",
       "    </tr>\n",
       "  </thead>\n",
       "  <tbody>\n",
       "    <tr>\n",
       "      <th>120</th>\n",
       "      <td>16.0</td>\n",
       "      <td>7.407379e+06</td>\n",
       "      <td>11329.61606</td>\n",
       "      <td>POLYGON ((6292472.284999996 1855719.495000005,...</td>\n",
       "      <td>2016</td>\n",
       "      <td>1</td>\n",
       "      <td>Less than $15,000</td>\n",
       "      <td>552</td>\n",
       "    </tr>\n",
       "    <tr>\n",
       "      <th>121</th>\n",
       "      <td>16.0</td>\n",
       "      <td>7.407379e+06</td>\n",
       "      <td>11329.61606</td>\n",
       "      <td>POLYGON ((6292472.284999996 1855719.495000005,...</td>\n",
       "      <td>2016</td>\n",
       "      <td>2</td>\n",
       "      <td>$15,000 to $29,999</td>\n",
       "      <td>565</td>\n",
       "    </tr>\n",
       "    <tr>\n",
       "      <th>122</th>\n",
       "      <td>16.0</td>\n",
       "      <td>7.407379e+06</td>\n",
       "      <td>11329.61606</td>\n",
       "      <td>POLYGON ((6292472.284999996 1855719.495000005,...</td>\n",
       "      <td>2016</td>\n",
       "      <td>3</td>\n",
       "      <td>$30,000 to $44,999</td>\n",
       "      <td>504</td>\n",
       "    </tr>\n",
       "    <tr>\n",
       "      <th>123</th>\n",
       "      <td>16.0</td>\n",
       "      <td>7.407379e+06</td>\n",
       "      <td>11329.61606</td>\n",
       "      <td>POLYGON ((6292472.284999996 1855719.495000005,...</td>\n",
       "      <td>2016</td>\n",
       "      <td>4</td>\n",
       "      <td>$45,000 to $59,999</td>\n",
       "      <td>328</td>\n",
       "    </tr>\n",
       "    <tr>\n",
       "      <th>124</th>\n",
       "      <td>16.0</td>\n",
       "      <td>7.407379e+06</td>\n",
       "      <td>11329.61606</td>\n",
       "      <td>POLYGON ((6292472.284999996 1855719.495000005,...</td>\n",
       "      <td>2016</td>\n",
       "      <td>5</td>\n",
       "      <td>$60,000 to $74,999</td>\n",
       "      <td>197</td>\n",
       "    </tr>\n",
       "    <tr>\n",
       "      <th>125</th>\n",
       "      <td>16.0</td>\n",
       "      <td>7.407379e+06</td>\n",
       "      <td>11329.61606</td>\n",
       "      <td>POLYGON ((6292472.284999996 1855719.495000005,...</td>\n",
       "      <td>2016</td>\n",
       "      <td>6</td>\n",
       "      <td>$75,000 to $99,999</td>\n",
       "      <td>101</td>\n",
       "    </tr>\n",
       "    <tr>\n",
       "      <th>126</th>\n",
       "      <td>16.0</td>\n",
       "      <td>7.407379e+06</td>\n",
       "      <td>11329.61606</td>\n",
       "      <td>POLYGON ((6292472.284999996 1855719.495000005,...</td>\n",
       "      <td>2016</td>\n",
       "      <td>7</td>\n",
       "      <td>$100,000 to $124,999</td>\n",
       "      <td>25</td>\n",
       "    </tr>\n",
       "    <tr>\n",
       "      <th>127</th>\n",
       "      <td>16.0</td>\n",
       "      <td>7.407379e+06</td>\n",
       "      <td>11329.61606</td>\n",
       "      <td>POLYGON ((6292472.284999996 1855719.495000005,...</td>\n",
       "      <td>2016</td>\n",
       "      <td>8</td>\n",
       "      <td>$125,000 to $149,999</td>\n",
       "      <td>0</td>\n",
       "    </tr>\n",
       "    <tr>\n",
       "      <th>128</th>\n",
       "      <td>16.0</td>\n",
       "      <td>7.407379e+06</td>\n",
       "      <td>11329.61606</td>\n",
       "      <td>POLYGON ((6292472.284999996 1855719.495000005,...</td>\n",
       "      <td>2016</td>\n",
       "      <td>9</td>\n",
       "      <td>$150,000 to $199,999</td>\n",
       "      <td>0</td>\n",
       "    </tr>\n",
       "    <tr>\n",
       "      <th>129</th>\n",
       "      <td>16.0</td>\n",
       "      <td>7.407379e+06</td>\n",
       "      <td>11329.61606</td>\n",
       "      <td>POLYGON ((6292472.284999996 1855719.495000005,...</td>\n",
       "      <td>2016</td>\n",
       "      <td>10</td>\n",
       "      <td>$200,000 or more</td>\n",
       "      <td>0</td>\n",
       "    </tr>\n",
       "  </tbody>\n",
       "</table>\n",
       "</div>"
      ],
      "text/plain": [
       "     TRACT    SHAPE_AREA    SHAPE_LEN  \\\n",
       "120   16.0  7.407379e+06  11329.61606   \n",
       "121   16.0  7.407379e+06  11329.61606   \n",
       "122   16.0  7.407379e+06  11329.61606   \n",
       "123   16.0  7.407379e+06  11329.61606   \n",
       "124   16.0  7.407379e+06  11329.61606   \n",
       "125   16.0  7.407379e+06  11329.61606   \n",
       "126   16.0  7.407379e+06  11329.61606   \n",
       "127   16.0  7.407379e+06  11329.61606   \n",
       "128   16.0  7.407379e+06  11329.61606   \n",
       "129   16.0  7.407379e+06  11329.61606   \n",
       "\n",
       "                                              geometry  YEAR  ORDINAL  \\\n",
       "120  POLYGON ((6292472.284999996 1855719.495000005,...  2016        1   \n",
       "121  POLYGON ((6292472.284999996 1855719.495000005,...  2016        2   \n",
       "122  POLYGON ((6292472.284999996 1855719.495000005,...  2016        3   \n",
       "123  POLYGON ((6292472.284999996 1855719.495000005,...  2016        4   \n",
       "124  POLYGON ((6292472.284999996 1855719.495000005,...  2016        5   \n",
       "125  POLYGON ((6292472.284999996 1855719.495000005,...  2016        6   \n",
       "126  POLYGON ((6292472.284999996 1855719.495000005,...  2016        7   \n",
       "127  POLYGON ((6292472.284999996 1855719.495000005,...  2016        8   \n",
       "128  POLYGON ((6292472.284999996 1855719.495000005,...  2016        9   \n",
       "129  POLYGON ((6292472.284999996 1855719.495000005,...  2016       10   \n",
       "\n",
       "             INCOME GROUP  HOUSEHOLDS  \n",
       "120     Less than $15,000         552  \n",
       "121    $15,000 to $29,999         565  \n",
       "122    $30,000 to $44,999         504  \n",
       "123    $45,000 to $59,999         328  \n",
       "124    $60,000 to $74,999         197  \n",
       "125    $75,000 to $99,999         101  \n",
       "126  $100,000 to $124,999          25  \n",
       "127  $125,000 to $149,999           0  \n",
       "128  $150,000 to $199,999           0  \n",
       "129      $200,000 or more           0  "
      ]
     },
     "execution_count": 136,
     "metadata": {},
     "output_type": "execute_result"
    }
   ],
   "source": [
    "socio_recent[socio_recent.TRACT == 16]"
   ]
  },
  {
   "cell_type": "code",
   "execution_count": 137,
   "metadata": {},
   "outputs": [
    {
     "data": {
      "text/plain": [
       "'$30,000 to $44,999'"
      ]
     },
     "execution_count": 137,
     "metadata": {},
     "output_type": "execute_result"
    }
   ],
   "source": [
    "extract_median_bin(socio_recent[socio_recent.TRACT == 16])"
   ]
  },
  {
   "cell_type": "code",
   "execution_count": 291,
   "metadata": {},
   "outputs": [],
   "source": [
    "# Now we can just wrap that function with something that takes in a tract number and spits out useful\n",
    "# info from the socio dataframe.\n",
    "def get_tract_socio(tract):\n",
    "    \n",
    "    tract = socio_recent[socio_recent.TRACT == tract]\n",
    "    \n",
    "    return pd.concat([\n",
    "        pd.Series({\n",
    "            \"median_group\": extract_median_bin(tract),\n",
    "            \"num_households\": total_households(tract),\n",
    "        }),\n",
    "        info_to_series(tract)\n",
    "    ], )"
   ]
  },
  {
   "cell_type": "code",
   "execution_count": 333,
   "metadata": {},
   "outputs": [],
   "source": [
    "# We can now create some extra income features so we can make our model later on.\n",
    "\n",
    "# Unfortunately we can't do much with tracts that have no ratios so they will not\n",
    "# be included in our model.\n",
    "promise_with_ratios = promise_tracts_health[promise_tracts_health['ratio'].notnull()].fillna(0).copy()\n",
    "other_with_ratios = other_tracts_health[other_tracts_health['ratio'].notnull()].fillna(0).copy()\n",
    "\n",
    "# Let's now compute the median household income for every tract we do ratios for.\n",
    "promise_with_info = pd.concat([\n",
    "    promise_with_ratios, promise_with_ratios.TRACT.apply(get_tract_socio).set_index(promise_with_ratios.index)\n",
    "], axis=1)\n",
    "\n",
    "other_with_info = pd.concat([\n",
    "    other_with_ratios, other_with_ratios.TRACT.apply(get_tract_socio).set_index(other_with_ratios.index)\n",
    "], axis=1)"
   ]
  },
  {
   "cell_type": "code",
   "execution_count": 140,
   "metadata": {},
   "outputs": [],
   "source": [
    "import sklearn\n",
    "\n",
    "%matplotlib inline"
   ]
  },
  {
   "cell_type": "code",
   "execution_count": 303,
   "metadata": {},
   "outputs": [
    {
     "data": {
      "text/plain": [
       "<matplotlib.collections.PathCollection at 0x7f072f544fd0>"
      ]
     },
     "execution_count": 303,
     "metadata": {},
     "output_type": "execute_result"
    },
    {
     "data": {
      "image/png": "[encoded data removed]",
      "text/plain": [
       "<Figure size 432x288 with 1 Axes>"
      ]
     },
     "metadata": {
      "needs_background": "light"
     },
     "output_type": "display_data"
    }
   ],
   "source": [
    "plt.scatter(promise_with_info.ratio, promise_with_info.num_households)"
   ]
  },
  {
   "cell_type": "code",
   "execution_count": 304,
   "metadata": {},
   "outputs": [
    {
     "data": {
      "text/plain": [
       "<matplotlib.collections.PathCollection at 0x7f072f4aff28>"
      ]
     },
     "execution_count": 304,
     "metadata": {},
     "output_type": "execute_result"
    },
    {
     "data": {
      "image/png": "[encoded data removed]",
      "text/plain": [
       "<Figure size 432x288 with 1 Axes>"
      ]
     },
     "metadata": {
      "needs_background": "light"
     },
     "output_type": "display_data"
    }
   ],
   "source": [
    "plt.scatter(other_with_info.ratio, other_with_info.num_households)"
   ]
  },
  {
   "cell_type": "code",
   "execution_count": null,
   "metadata": {},
   "outputs": [],
   "source": [
    "# Already we can see that concerns about heteroscedasticity may arise if we wish to use linear regression!"
   ]
  },
  {
   "cell_type": "code",
   "execution_count": 229,
   "metadata": {},
   "outputs": [],
   "source": [
    "%matplotlib inline"
   ]
  },
  {
   "cell_type": "code",
   "execution_count": 174,
   "metadata": {},
   "outputs": [],
   "source": [
    "import numpy as np"
   ]
  },
  {
   "cell_type": "code",
   "execution_count": 225,
   "metadata": {},
   "outputs": [],
   "source": [
    "income_group_to_value = {\n",
    "    \"Less than $15,000\": 7500,\n",
    "    \"$15,000 to $29,999\": 15000 + 7500,\n",
    "    \"$30,000 to $44,999\": 30000 + 7500,\n",
    "    \"$45,000 to $59,999\": 45000 + 7500,\n",
    "    \"$60,000 to $74,999\": 60000 + 7500,\n",
    "    \"$75,000 to $99,999\": 75000 + 12400,\n",
    "    \"$100,000 to $124,999\": 100000 + 12400,\n",
    "    \"$125,000 to $149,999\": 125000 + 12400,\n",
    "}\n",
    "\n",
    "order = [\n",
    "    \"Less than $15,000\",\n",
    "    \"$15,000 to $29,999\",\n",
    "    \"$30,000 to $44,999\",\n",
    "    \"$45,000 to $59,999\",\n",
    "    \"$60,000 to $74,999\",\n",
    "    \"$75,000 to $99,999\",\n",
    "    \"$100,000 to $124,999\",\n",
    "    \"$125,000 to $149,999\"\n",
    "]"
   ]
  },
  {
   "cell_type": "code",
   "execution_count": 334,
   "metadata": {},
   "outputs": [],
   "source": [
    "# Creating a dataframe of ratios, with additional info columns for:\n",
    "# - Corresponding tract\n",
    "# - Whether or not in Promise Zone\n",
    "# - Median income group for that tract\n",
    "# - Median income as an estimated value for that tract (simply the midpoint of the bin range)\n",
    "# - Number of households for that tract\n",
    "all_info = pd.DataFrame(\n",
    "    pd.concat([\n",
    "        promise_with_info.assign(promise=1),\n",
    "        other_with_info.assign(promise=0)\n",
    "    ], sort=False).drop([\"SHAPE_LEN\", \"geometry\", \"index_right\", \"Juris\", \"Name\", \"objectid\", \"code\"], axis=1)\n",
    ")\n",
    "\n",
    "all_info[\"median_income\"] = all_info.median_group.replace(income_group_to_value)"
   ]
  },
  {
   "cell_type": "code",
   "execution_count": 335,
   "metadata": {},
   "outputs": [
    {
     "data": {
      "text/plain": [
       "promise\n",
       "0    0.176882\n",
       "1    0.233814\n",
       "Name: ratio, dtype: float64"
      ]
     },
     "execution_count": 335,
     "metadata": {},
     "output_type": "execute_result"
    }
   ],
   "source": [
    "all_info.groupby(\"promise\").ratio.mean()"
   ]
  },
  {
   "cell_type": "code",
   "execution_count": 336,
   "metadata": {},
   "outputs": [
    {
     "data": {
      "text/plain": [
       "<matplotlib.axes._subplots.AxesSubplot at 0x7f072f7f24e0>"
      ]
     },
     "execution_count": 336,
     "metadata": {},
     "output_type": "execute_result"
    },
    {
     "data": {
      "image/png": "[encoded data removed]",
      "text/plain": [
       "<Figure size 432x288 with 1 Axes>"
      ]
     },
     "metadata": {
      "needs_background": "light"
     },
     "output_type": "display_data"
    }
   ],
   "source": [
    "all_info.plot(x=\"num_households\", y=\"ratio\", kind=\"scatter\")"
   ]
  },
  {
   "cell_type": "code",
   "execution_count": 677,
   "metadata": {},
   "outputs": [
    {
     "data": {
      "image/png": "[encoded data removed]",
      "text/plain": [
       "<Figure size 432x288 with 1 Axes>"
      ]
     },
     "metadata": {
      "needs_background": "light"
     },
     "output_type": "display_data"
    }
   ],
   "source": [
    "all_info.groupby(\"median_group\").ratio.mean().reindex(order).plot(kind=\"bar\").set_title(\"Median Income Group\\nvs.\\nMean Healthy/Unhealthy Ratio\");"
   ]
  },
  {
   "cell_type": "code",
   "execution_count": 324,
   "metadata": {},
   "outputs": [
    {
     "data": {
      "text/plain": [
       "<matplotlib.collections.PathCollection at 0x7f072f1f37f0>"
      ]
     },
     "execution_count": 324,
     "metadata": {},
     "output_type": "execute_result"
    },
    {
     "data": {
      "image/png": "[encoded data removed]",
      "text/plain": [
       "<Figure size 432x288 with 1 Axes>"
      ]
     },
     "metadata": {
      "needs_background": "light"
     },
     "output_type": "display_data"
    }
   ],
   "source": [
    "plt.scatter(all_info.median_income + np.random.normal(scale=2000, size=len(all_info)), all_info.ratio)"
   ]
  },
  {
   "cell_type": "code",
   "execution_count": 325,
   "metadata": {},
   "outputs": [
    {
     "data": {
      "text/plain": [
       "<matplotlib.axes._subplots.AxesSubplot at 0x7f072f2b6630>"
      ]
     },
     "execution_count": 325,
     "metadata": {},
     "output_type": "execute_result"
    },
    {
     "data": {
      "image/png": "[encoded data removed]",
      "text/plain": [
       "<Figure size 432x288 with 1 Axes>"
      ]
     },
     "metadata": {
      "needs_background": "light"
     },
     "output_type": "display_data"
    }
   ],
   "source": [
    "all_info.where(all_info.promise == 0).plot.scatter(\"median_income\", \"ratio\")"
   ]
  },
  {
   "cell_type": "code",
   "execution_count": 493,
   "metadata": {},
   "outputs": [],
   "source": [
    "promise_mask = all_info.promise == 1\n",
    "promise, other = all_info[promise_mask], all_info[~promise_mask]"
   ]
  },
  {
   "cell_type": "code",
   "execution_count": 515,
   "metadata": {},
   "outputs": [],
   "source": [
    "from sklearn.model_selection import train_test_split\n",
    "from sklearn.pipeline import Pipeline\n",
    "from sklearn.ensemble import RandomForestClassifier, RandomForestRegressor\n",
    "from sklearn.linear_model import LinearRegression, Ridge, Lasso\n",
    "from sklearn.preprocessing import OrdinalEncoder\n",
    "from sklearn.compose import ColumnTransformer"
   ]
  },
  {
   "cell_type": "code",
   "execution_count": 549,
   "metadata": {},
   "outputs": [],
   "source": [
    "possible_groups = socio_geo[\"INCOME GROUP\"].unique()\n",
    "possible_groups\n",
    "\n",
    "ordenc = OrdinalEncoder(categories=[possible_groups])\n",
    "# ordenc.fit(possible_groups.reshape(-1, 1))\n",
    "\n",
    "# y_train, y_test = ordenc.transform(y_train.to_frame()).ravel(), ordenc.transform(y_test.to_frame()).ravel()"
   ]
  },
  {
   "cell_type": "code",
   "execution_count": 672,
   "metadata": {},
   "outputs": [],
   "source": [
    "def income_to_ratio_regression(df, reg=LinearRegression()):\n",
    "    \"\"\"\n",
    "    Takes in a dataframe of info, either for all tracts both Promise Zone and Ohter, or just one category.\n",
    "    \n",
    "    Uses linear regression to predict the ratio for each tract, and produces a bar plot of the true\n",
    "    ratios versus the predicted ratios.\n",
    "    \"\"\"\n",
    "\n",
    "    X = df.drop([\"healthy_count\", \"unhealthy_count\", \"ratio\", \"TRACT\"], axis=1)\n",
    "    y = df[\"ratio\"]\n",
    "\n",
    "    X_train, X_test, y_train, y_test = train_test_split(X, y)\n",
    "\n",
    "    pl = Pipeline([\n",
    "        (\"pre\", ColumnTransformer([\n",
    "            (\"groups\", ordenc, [\"median_group\"])\n",
    "        ], remainder=\"passthrough\")),\n",
    "        (\"reg\", reg)\n",
    "    ])\n",
    "\n",
    "    pl.fit(X_train, y_train)\n",
    "\n",
    "    y_test.sort_index().plot(kind=\"bar\", color=\"blue\", width=0.8, alpha=0.8)\n",
    "    plt.bar(y_test.sort_index().index, pl.predict(X_test), color=\"orange\", width=0.8, alpha=0.7)\n",
    "\n",
    "    return pl.score(X_test, y_test)"
   ]
  },
  {
   "cell_type": "code",
   "execution_count": 673,
   "metadata": {},
   "outputs": [
    {
     "data": {
      "text/plain": [
       "0.042598147746999326"
      ]
     },
     "execution_count": 673,
     "metadata": {},
     "output_type": "execute_result"
    },
    {
     "data": {
      "image/png": "[encoded data removed]",
      "text/plain": [
       "<Figure size 432x288 with 1 Axes>"
      ]
     },
     "metadata": {
      "needs_background": "light"
     },
     "output_type": "display_data"
    }
   ],
   "source": [
    "income_to_ratio_regression(all_info)"
   ]
  },
  {
   "cell_type": "code",
   "execution_count": 674,
   "metadata": {},
   "outputs": [
    {
     "data": {
      "text/plain": [
       "-0.28328626679846436"
      ]
     },
     "execution_count": 674,
     "metadata": {},
     "output_type": "execute_result"
    },
    {
     "data": {
      "image/png": "[encoded data removed]",
      "text/plain": [
       "<Figure size 432x288 with 1 Axes>"
      ]
     },
     "metadata": {
      "needs_background": "light"
     },
     "output_type": "display_data"
    }
   ],
   "source": [
    "income_to_ratio_regression(promise)"
   ]
  },
  {
   "cell_type": "code",
   "execution_count": 675,
   "metadata": {},
   "outputs": [
    {
     "data": {
      "text/plain": [
       "-0.010021574074648099"
      ]
     },
     "execution_count": 675,
     "metadata": {},
     "output_type": "execute_result"
    },
    {
     "data": {
      "image/png": "[encoded data removed]",
      "text/plain": [
       "<Figure size 432x288 with 1 Axes>"
      ]
     },
     "metadata": {
      "needs_background": "light"
     },
     "output_type": "display_data"
    }
   ],
   "source": [
    "income_to_ratio_regression(other)"
   ]
  },
  {
   "cell_type": "code",
   "execution_count": 676,
   "metadata": {},
   "outputs": [
    {
     "data": {
      "text/plain": [
       "0.0009978637781826727"
      ]
     },
     "execution_count": 676,
     "metadata": {},
     "output_type": "execute_result"
    },
    {
     "data": {
      "image/png": "[encoded data removed]",
      "text/plain": [
       "<Figure size 432x288 with 1 Axes>"
      ]
     },
     "metadata": {
      "needs_background": "light"
     },
     "output_type": "display_data"
    }
   ],
   "source": [
    "# Let's try it with RandomForestRegressor instead.\n",
    "income_to_ratio_regression(all_info, RandomForestRegressor(100))"
   ]
  },
  {
   "cell_type": "code",
   "execution_count": 682,
   "metadata": {},
   "outputs": [
    {
     "data": {
      "text/plain": [
       "-0.9912226572034679"
      ]
     },
     "execution_count": 682,
     "metadata": {},
     "output_type": "execute_result"
    },
    {
     "data": {
      "image/png": "[encoded data removed]",
      "text/plain": [
       "<Figure size 432x288 with 1 Axes>"
      ]
     },
     "metadata": {
      "needs_background": "light"
     },
     "output_type": "display_data"
    }
   ],
   "source": [
    "# Maybe the linear regression is getting confused by all of the zeros... what happens if we drop them?\n",
    "income_to_ratio_regression(all_info[all_info.ratio > 0])"
   ]
  },
  {
   "cell_type": "code",
   "execution_count": 687,
   "metadata": {},
   "outputs": [
    {
     "data": {
      "text/plain": [
       "-7.942851494419953"
      ]
     },
     "execution_count": 687,
     "metadata": {},
     "output_type": "execute_result"
    },
    {
     "data": {
      "image/png": "[encoded data removed]",
      "text/plain": [
       "<Figure size 432x288 with 1 Axes>"
      ]
     },
     "metadata": {
      "needs_background": "light"
     },
     "output_type": "display_data"
    }
   ],
   "source": [
    "income_to_ratio_regression(promise[promise.ratio > 0])"
   ]
  },
  {
   "cell_type": "code",
   "execution_count": 688,
   "metadata": {},
   "outputs": [
    {
     "data": {
      "text/plain": [
       "-14.061215593949678"
      ]
     },
     "execution_count": 688,
     "metadata": {},
     "output_type": "execute_result"
    },
    {
     "data": {
      "image/png": "[encoded data removed]",
      "text/plain": [
       "<Figure size 432x288 with 1 Axes>"
      ]
     },
     "metadata": {
      "needs_background": "light"
     },
     "output_type": "display_data"
    }
   ],
   "source": [
    "income_to_ratio_regression(other[other.ratio > 0])"
   ]
  },
  {
   "cell_type": "code",
   "execution_count": 625,
   "metadata": {},
   "outputs": [],
   "source": [
    "# None of these are very good regressors! They are **very** far from being accurate nor precise."
   ]
  },
  {
   "cell_type": "code",
   "execution_count": 626,
   "metadata": {},
   "outputs": [],
   "source": [
    "# What if we try predicting median income group using the ratio?\n",
    "\n",
    "def ratio_to_income_classification(df):\n",
    "    \"\"\"\n",
    "    Takes in a dataframe of info, either for all tracts both Promise Zone and Ohter, or just one category.\n",
    "    \n",
    "    Uses random forest classification to predict median income group for each tract, and produces a scatter\n",
    "    plot of the true group versus the predicted group.\n",
    "    \"\"\"\n",
    "    \n",
    "    cols_to_delete = df.filter(regex=r\"median|\\$\").columns\n",
    "\n",
    "    X = df.drop([*cols_to_delete, \"TRACT\"], axis=1)\n",
    "    y = ordenc.fit_transform(df.median_group.to_frame()).ravel()\n",
    "\n",
    "    X_train, X_test, y_train, y_test = train_test_split(X, y)\n",
    "\n",
    "    clf = RandomForestClassifier(100)\n",
    "\n",
    "    clf.fit(X_train, y_train)\n",
    "\n",
    "    return clf.score(X_test, y_test)"
   ]
  },
  {
   "cell_type": "code",
   "execution_count": 627,
   "metadata": {
    "scrolled": true
   },
   "outputs": [
    {
     "data": {
      "text/plain": [
       "0.3023255813953488"
      ]
     },
     "execution_count": 627,
     "metadata": {},
     "output_type": "execute_result"
    }
   ],
   "source": [
    "ratio_to_income_classification(all_info)"
   ]
  },
  {
   "cell_type": "code",
   "execution_count": 628,
   "metadata": {},
   "outputs": [
    {
     "data": {
      "text/plain": [
       "0.42857142857142855"
      ]
     },
     "execution_count": 628,
     "metadata": {},
     "output_type": "execute_result"
    }
   ],
   "source": [
    "ratio_to_income_classification(promise)"
   ]
  },
  {
   "cell_type": "code",
   "execution_count": 629,
   "metadata": {},
   "outputs": [
    {
     "data": {
      "text/plain": [
       "0.3055555555555556"
      ]
     },
     "execution_count": 629,
     "metadata": {},
     "output_type": "execute_result"
    }
   ],
   "source": [
    "ratio_to_income_classification(other)"
   ]
  },
  {
   "cell_type": "code",
   "execution_count": 633,
   "metadata": {},
   "outputs": [],
   "source": [
    "# The classification of median income group based primarily on ratio is *decent* when you\n",
    "# consider that there are eight categories to choose from..."
   ]
  },
  {
   "cell_type": "markdown",
   "metadata": {},
   "source": [
    "### Part 2 Discussion of Linear Regression Results\n",
    "\n",
    "As we expected, it is challenging to create a very useful model from the data we currently have our hands on.  However, there are still trends in our data that are highlighted by the predictive models.\n",
    "\n",
    "There is indeed some relationship between income level counts in a tract and that tract's corresponding healthy/unhealthy ratio.  This can be seen in the exploratory histogram of \"Median Income Group vs Mean Healthy/Unhealthy Ratio\"—there is a spike in the ratio at the 100k-125k median income range (which is very high for a median!)\n",
    "\n",
    "First we tried using linear regression in order to predict the healthy/unhealthy ratio of a tract.  As inputs to this regression model, we fed in: all income group counts, the median income group, the total number of households, and whether or not the tract was in the Promise Zone.  This was very ineffective, and wildly inconsistent—often times predicting negative values or all zeros depending on the training set.  We had a theory that the massive volume of '0' ratios may have been negatively impacting the accuracy of the linear regression, so we tested our regression model with all the zeros removed, but we saw little improvement.\n",
    "\n",
    "We also tried using random forest regression instead of linear regression and noticed a moderate improvement, but still a huge amount of inconsistency.\n",
    "\n",
    "Next, we tried using random forest classification in order to predict the median income group of a tract.  This model resulted in an average test accuracy of approximately 33%, which seems bad, but is actually fairly good when you consider that there are eight income groups to choose from, and that we only scored on accuracy (which is a very harsh metric) when instead we should have taken the ordinality of the data into account.  Given more time, we would have liked to have computed a score that would take the distance between the predicted income level and the true income level into account, but we ran into issues while trying to get sklearn to use a different metric on our predictions.  However, this goes to show that there is definitely *some* merit to predicting a median income level for a census tract based on the healthy/unhealthy ratio.\n",
    "\n",
    "Perhaps one of the biggest issue we discovered while trying to run regression and classification was that the randomly sampled training set had a massive impact on the outcome of the model.  This is largely due to the small size of our dataset compared to the large degree of variation in the data—which was only accentuated when we passed in a partial dataset (e.g. only Promise Zone tracts) to the model."
   ]
  },
  {
   "cell_type": "markdown",
   "metadata": {},
   "source": [
    "6. Generate a map showing the ratio of healthy and not healthy food options, and the locations of stores offering healthy food options. "
   ]
  },
  {
   "cell_type": "code",
   "execution_count": 143,
   "metadata": {},
   "outputs": [],
   "source": [
    "sdcity = sandiego[sandiego.objectid==40]\n",
    "\n",
    "sd_healthy_businesses = healthy_businesses_2230.where(\n",
    "    healthy_businesses_2230.within(sdcity.geometry.item())\n",
    ")\n",
    "\n",
    "sd_unhealthy_businesses = unhealthy_businesses_2230.where(\n",
    "    unhealthy_businesses_2230.within(sdcity.geometry.item())\n",
    ")"
   ]
  },
  {
   "cell_type": "code",
   "execution_count": 664,
   "metadata": {},
   "outputs": [
    {
     "data": {
      "image/png": "[encoded data removed]",
      "text/plain": [
       "<Figure size 720x720 with 2 Axes>"
      ]
     },
     "metadata": {
      "needs_background": "light"
     },
     "output_type": "display_data"
    }
   ],
   "source": [
    "# %matplotlib notebook\n",
    "\n",
    "ax = sdcity.plot(figsize=(10,10), color=\"lightgray\", label=\"San Diego City\")\n",
    "\n",
    "promise_tracts.plot(ax=ax, color=\"darkgray\", label=\"Promise Zone\")\n",
    "sd_city_tracts_not_promise.plot(ax=ax, color=\"whitesmoke\", label=\"Other Tracts\")\n",
    "\n",
    "# We need to make sure that the promise tracts and other tracts are plotted on the same color range.\n",
    "#\n",
    "# We do this by setting vmin and vmax to the same values.  (Also this means we only need to create\n",
    "# the legend for one of the instances!)\n",
    "#\n",
    "# The vmin should be zero (if there are no healthy food options), and the vmax should be the maximum\n",
    "# ratio found.\n",
    "max_ratio = max(promise_tracts_health.ratio.max(), other_tracts_health.ratio.max())\n",
    "\n",
    "cmap = \"YlGn\"\n",
    "\n",
    "promise_tracts_health.dropna(subset=[\"ratio\"]).plot(\n",
    "    ax=ax, column=\"ratio\", cmap=cmap, vmin=0, vmax=max_ratio, edgecolor=\"dimgray\", linewidth=0.5,\n",
    "    label=\"Healthy/Unhealthy Ratio\", legend=True\n",
    ")\n",
    "other_tracts_health.dropna(subset=[\"ratio\"]).plot(\n",
    "    ax=ax, column=\"ratio\", cmap=cmap, vmin=0, vmax=max_ratio, edgecolor=\"lightgray\", linewidth=0.5\n",
    ")\n",
    "\n",
    "\n",
    "# There are a very large number of unhealthy options that are often closely grouped, the alpha is\n",
    "# set lower than that for healthy options for visual clarity.\n",
    "#\n",
    "# NOTE: The prompt asks for just the locations of health food options.\n",
    "msize=5\n",
    "sd_healthy_businesses.plot(ax=ax, color=\"limegreen\", alpha=1, markersize=msize+2, edgecolor=\"lime\")\n",
    "# sd_unhealthy_businesses.plot(ax=ax, color=\"r\", alpha=0.3, markersize=msize)\n",
    "\n",
    "\n",
    "# Tedious legend work.\n",
    "promise_patch = mpatches.Patch(color=\"gray\", label=\"Promise Zone\")\n",
    "other_patch = mpatches.Patch(color=\"whitesmoke\", label=\"Other Tracts\")\n",
    "healthy_patch = mlines.Line2D([], [], color=\"limegreen\", linestyle='', marker='o', label=\"Healthy Option\")\n",
    "unhealthy_patch = mlines.Line2D([], [], color='r', linestyle='', marker='o', label=\"Unhealthy Option\")\n",
    "ax.legend(handles=[promise_patch, other_patch, healthy_patch], bbox_to_anchor=(0, 1), loc=2)\n",
    "ax.set_ylabel(\"Healthy/Unhealthy Ratio\")\n",
    "ax.yaxis.set_label_position(\"right\")\n",
    "ax.tick_params(bottom=False, left=False, labelleft=False, labelbottom=False)\n",
    "\n",
    "ax.set_title(\n",
    "    \"Healthy/Unhealthy Ratio of Tracts Within and Outside of the Promize Zone, \\nand Location of Food Options\"\n",
    ");"
   ]
  },
  {
   "cell_type": "code",
   "execution_count": null,
   "metadata": {},
   "outputs": [],
   "source": []
  },
  {
   "cell_type": "markdown",
   "metadata": {},
   "source": [
    "```\n",
    "# Could you briefly present what you found (up to 5 mins) to start the discussion and get Greg's feedback?  You can demo your notebook, show some resultant graph, and talk through the results.\n",
    "```"
   ]
  },
  {
   "cell_type": "code",
   "execution_count": null,
   "metadata": {},
   "outputs": [],
   "source": []
  }
 ],
 "metadata": {
  "celltoolbar": "Edit Metadata",
  "kernelspec": {
   "display_name": "Python 3",
   "language": "python",
   "name": "python3"
  },
  "language_info": {
   "codemirror_mode": {
    "name": "ipython",
    "version": 3
   },
   "file_extension": ".py",
   "mimetype": "text/x-python",
   "name": "python",
   "nbconvert_exporter": "python",
   "pygments_lexer": "ipython3",
   "version": "3.7.1"
  }
 },
 "nbformat": 4,
 "nbformat_minor": 2
}
